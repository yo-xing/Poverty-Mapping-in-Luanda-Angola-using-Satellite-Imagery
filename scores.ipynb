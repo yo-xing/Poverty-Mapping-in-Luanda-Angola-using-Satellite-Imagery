{
 "cells": [
  {
   "cell_type": "code",
   "execution_count": 1,
   "metadata": {},
   "outputs": [],
   "source": [
    "import matplotlib.pyplot as plt\n",
    "import numpy as np\n",
    "from sklearn import datasets, linear_model\n",
    "from sklearn.metrics import mean_squared_error, r2_score\n",
    "import pandas as pd\n",
    "from sklearn.linear_model import LinearRegression\n",
    "from sklearn.model_selection import cross_val_score\n",
    "from sklearn.linear_model import Ridge\n",
    "from sklearn.model_selection import train_test_split\n",
    "\n",
    "\n"
   ]
  },
  {
   "cell_type": "code",
   "execution_count": 2,
   "metadata": {},
   "outputs": [],
   "source": [
    "# Load the dataset\n",
    "cmodel = pd.read_csv('cmodel_4bins.csv').sample(frac=1)\n",
    "r_cols = ['r' + str(i) for i in range(4)]\n",
    "g_cols = ['g' + str(i) for i in range(4)]\n",
    "b_cols = ['b' + str(i) for i in range(4)]\n",
    "\n",
    "X = cmodel[r_cols+g_cols+b_cols + ['train', 'truck', 'car',  'potted plant', 'person']]\n",
    "y = cmodel['Wealth_Index']\n",
    "\n",
    "X_train, X_test, y_train, y_test = train_test_split(X, y, test_size=0.25, random_state=27)"
   ]
  },
  {
   "cell_type": "code",
   "execution_count": 3,
   "metadata": {},
   "outputs": [
    {
     "name": "stdout",
     "output_type": "stream",
     "text": [
      "Mean squared error: 4.76\n",
      "Coefficient of determination: 0.10\n"
     ]
    }
   ],
   "source": [
    "# Create linear regression object \n",
    "regr = linear_model.LinearRegression()\n",
    "\n",
    "# Train the model using the training sets\n",
    "regr.fit(X_train, y_train)\n",
    "\n",
    "# Make predictions using the testing set\n",
    "y_pred = regr.predict(X_test)\n",
    "\n",
    "# The coefficients\n",
    "#print('Coefficients: \\n', regr.coef_)\n",
    "# The mean squared error\n",
    "print('Mean squared error: %.2f'\n",
    "      % mean_squared_error(y_test, y_pred))\n",
    "# The coefficient of determination: 1 is perfect prediction\n",
    "print('Coefficient of determination: %.2f'\n",
    "      % r2_score(y_test, y_pred))"
   ]
  },
  {
   "cell_type": "code",
   "execution_count": 4,
   "metadata": {},
   "outputs": [
    {
     "data": {
      "text/plain": [
       "584     185000.0000\n",
       "660     108571.4300\n",
       "282     267000.0000\n",
       "533       2742.8572\n",
       "771      32000.0000\n",
       "           ...     \n",
       "898      30000.0000\n",
       "220      80000.0000\n",
       "1067     25000.0000\n",
       "422      40000.0000\n",
       "698     127000.0000\n",
       "Name: total_income_2_b, Length: 1200, dtype: float64"
      ]
     },
     "execution_count": 4,
     "metadata": {},
     "output_type": "execute_result"
    }
   ],
   "source": []
  },
  {
   "cell_type": "code",
   "execution_count": 5,
   "metadata": {},
   "outputs": [],
   "source": [
    "#100 sample models with rgb distribution\n",
    "\n",
    "mse_lst = []\n",
    "r2_lst = []\n",
    "for i in range(1000):\n",
    "    cmodel = pd.read_csv('cmodel_4bins.csv').dropna().sample(frac=1)\n",
    "    X = cmodel[r_cols+g_cols+b_cols]\n",
    "    y = cmodel['Wealth_Index']\n",
    "    X_train, X_test, y_train, y_test = train_test_split(X, y, test_size=0.25, random_state=27)\n",
    "    # Create linear regression object\n",
    "    regr = linear_model.LinearRegression()\n",
    "\n",
    "    # Train the model using the training sets\n",
    "    regr.fit(X_train, y_train)\n",
    "\n",
    "    # Make predictions using the testing set\n",
    "    y_pred = regr.predict(X_test)\n",
    "\n",
    "    # The coefficients\n",
    "    #print('Coefficients: \\n', regr.coef_)\n",
    "    # The mean squared error\n",
    "    mse_lst.append(mean_squared_error(y_test, y_pred))\n",
    "    # The coefficient of determination: 1 is perfect prediction\n",
    "    r2_lst.append(r2_score(y_test, y_pred))"
   ]
  },
  {
   "cell_type": "code",
   "execution_count": 8,
   "metadata": {},
   "outputs": [
    {
     "data": {
      "text/plain": [
       "0.01772936646715894"
      ]
     },
     "execution_count": 8,
     "metadata": {},
     "output_type": "execute_result"
    }
   ],
   "source": [
    "np.mean(r2_lst)"
   ]
  },
  {
   "cell_type": "code",
   "execution_count": 6,
   "metadata": {
    "scrolled": false
   },
   "outputs": [
    {
     "data": {
      "text/plain": [
       "<matplotlib.axes._subplots.AxesSubplot at 0x1100eea90>"
      ]
     },
     "execution_count": 6,
     "metadata": {},
     "output_type": "execute_result"
    },
    {
     "data": {
      "image/png": "[encoded data removed]",
      "text/plain": [
       "<Figure size 432x288 with 2 Axes>"
      ]
     },
     "metadata": {
      "needs_background": "light"
     },
     "output_type": "display_data"
    }
   ],
   "source": [
    "# R2 (left) and MSE (right) for model with 4 bin RGB distribution (1000 samples)\n",
    "\n",
    "\n",
    "\n",
    "from matplotlib import pyplot\n",
    "\n",
    "fig, axes = plt.subplots(1, 2)\n",
    "\n",
    "pd.Series(r2_lst).hist(ax=axes[0], bins = 50)\n",
    "pd.Series(mse_lst).hist(ax=axes[1], bins = 50)"
   ]
  },
  {
   "cell_type": "code",
   "execution_count": 237,
   "metadata": {
    "scrolled": false
   },
   "outputs": [
    {
     "data": {
      "text/plain": [
       "0.016909737864573938"
      ]
     },
     "execution_count": 237,
     "metadata": {},
     "output_type": "execute_result"
    }
   ],
   "source": [
    "np.mean(r2_lst)"
   ]
  },
  {
   "cell_type": "code",
   "execution_count": 42,
   "metadata": {},
   "outputs": [],
   "source": [
    "#100 sample models without rgb distribution  \n",
    "\n",
    "\n",
    "\n",
    "mse_lst = []\n",
    "r2_lst = []\n",
    "for i in range(100):\n",
    "    cmodel = pd.read_csv('cmodel_4bins.csv').sample(frac=1)\n",
    "    X = cmodel[['train', 'truck', 'car',  'potted plant', 'person']]\n",
    "    y = cmodel['Wealth_Index']\n",
    "    X_train, X_test, y_train, y_test = train_test_split(X, y, test_size=0.25, random_state=27)\n",
    "    # Create linear regression object\n",
    "    regr = linear_model.LinearRegression()\n",
    "\n",
    "    # Train the model using the training sets\n",
    "    regr.fit(X_train, y_train)\n",
    "\n",
    "    # Make predictions using the testing set\n",
    "    y_pred = regr.predict(X_test)\n",
    "\n",
    "    # The coefficients\n",
    "    #print('Coefficients: \\n', regr.coef_)\n",
    "    # The mean squared error\n",
    "    mse_lst.append(mean_squared_error(y_test, y_pred))\n",
    "    # The coefficient of determination: 1 is perfect prediction\n",
    "    r2_lst.append(r2_score(y_test, y_pred))"
   ]
  },
  {
   "cell_type": "code",
   "execution_count": 43,
   "metadata": {
    "scrolled": true
   },
   "outputs": [
    {
     "data": {
      "text/plain": [
       "<matplotlib.axes._subplots.AxesSubplot at 0x1a216f7210>"
      ]
     },
     "execution_count": 43,
     "metadata": {},
     "output_type": "execute_result"
    },
    {
     "data": {
      "image/png": "[encoded data removed]",
      "text/plain": [
       "<Figure size 432x288 with 2 Axes>"
      ]
     },
     "metadata": {
      "needs_background": "light"
     },
     "output_type": "display_data"
    }
   ],
   "source": [
    "# R2 (left) and MSE (right) for model without RGB distribution (100 samples)\n",
    "\n",
    "fig, axes = plt.subplots(1, 2)\n",
    "\n",
    "pd.Series(r2_lst).hist(ax=axes[0], bins = 50)\n",
    "pd.Series(mse_lst).hist(ax=axes[1], bins = 50)"
   ]
  },
  {
   "cell_type": "code",
   "execution_count": 45,
   "metadata": {},
   "outputs": [
    {
     "data": {
      "text/plain": [
       "0.0860512826524708"
      ]
     },
     "execution_count": 45,
     "metadata": {},
     "output_type": "execute_result"
    }
   ],
   "source": [
    "np.mean(r2_lst)"
   ]
  },
  {
   "cell_type": "code",
   "execution_count": 160,
   "metadata": {},
   "outputs": [
    {
     "data": {
      "text/plain": [
       "(300, 29)"
      ]
     },
     "execution_count": 160,
     "metadata": {},
     "output_type": "execute_result"
    }
   ],
   "source": [
    "X_test.shape"
   ]
  },
  {
   "cell_type": "code",
   "execution_count": 52,
   "metadata": {},
   "outputs": [],
   "source": [
    "# function to get cross validation scores\n",
    "def get_cv_scores(model):\n",
    "    scores = cross_val_score(model,\n",
    "                             X_train,\n",
    "                             y_train,\n",
    "                             cv=5,\n",
    "                             scoring='r2')\n",
    "    \n",
    "    print('CV Mean: ', np.mean(scores))\n",
    "    print('STD: ', np.std(scores))\n",
    "    print('\\n')"
   ]
  },
  {
   "cell_type": "code",
   "execution_count": null,
   "metadata": {},
   "outputs": [],
   "source": []
  },
  {
   "cell_type": "code",
   "execution_count": 55,
   "metadata": {
    "scrolled": false
   },
   "outputs": [
    {
     "name": "stdout",
     "output_type": "stream",
     "text": [
      "CV Mean:  0.09270936054593464\n",
      "STD:  0.04799441929498885\n",
      "\n",
      "\n"
     ]
    }
   ],
   "source": [
    "lr = LinearRegression().fit(X_train, y_train)\n",
    "# get cross val scores\n",
    "get_cv_scores(lr)"
   ]
  },
  {
   "cell_type": "code",
   "execution_count": 56,
   "metadata": {
    "scrolled": true
   },
   "outputs": [
    {
     "name": "stdout",
     "output_type": "stream",
     "text": [
      "CV Mean:  0.09301870813336785\n",
      "STD:  0.047747871573567836\n",
      "\n",
      "\n"
     ]
    }
   ],
   "source": [
    "# Train model with default alpha=1\n",
    "ridge = Ridge(alpha=1).fit(X_train, y_train)\n",
    "# get cross val scores\n",
    "get_cv_scores(ridge)\n"
   ]
  },
  {
   "cell_type": "code",
   "execution_count": 46,
   "metadata": {},
   "outputs": [],
   "source": [
    "from sklearn.tree import DecisionTreeClassifier\n",
    "from sklearn.model_selection import GridSearchCV\n",
    "\n",
    "def dtree_grid_search(X,y,nfolds = 5):\n",
    "    #create a dictionary of all values we want to test\n",
    "    param_grid = { 'criterion':['gini','entropy'],'max_depth': np.arange(1, 15)}\n",
    "    # decision tree model\n",
    "    dtree_model=DecisionTreeClassifier()\n",
    "    #use gridsearch to test all values\n",
    "    dtree_gscv = GridSearchCV(dtree_model, param_grid, cv=nfolds)\n",
    "    #fit model to data\n",
    "    dtree_gscv.fit(X, y)\n",
    "    return dtree_gscv.best_params_"
   ]
  },
  {
   "cell_type": "code",
   "execution_count": 239,
   "metadata": {},
   "outputs": [],
   "source": [
    "X = cmodel[['train', 'truck', 'car',  'potted plant', 'person']]\n",
    "y = cmodel['Poor_MPI']\n",
    "\n",
    "X_train, X_test, y_train, y_test = train_test_split(X, y, test_size=0.25, random_state=27)\n",
    "params = dtree_grid_search(X,y)\n",
    "clf = DecisionTreeClassifier(criterion = params['criterion'], max_depth = params['max_depth'])"
   ]
  },
  {
   "cell_type": "code",
   "execution_count": 240,
   "metadata": {},
   "outputs": [
    {
     "data": {
      "text/plain": [
       "{'criterion': 'entropy', 'max_depth': 8}"
      ]
     },
     "execution_count": 240,
     "metadata": {},
     "output_type": "execute_result"
    }
   ],
   "source": [
    "dtree_grid_search(X,y)"
   ]
  },
  {
   "cell_type": "code",
   "execution_count": 200,
   "metadata": {
    "scrolled": false
   },
   "outputs": [
    {
     "data": {
      "text/plain": [
       "array([0.59583333, 0.59583333, 0.6       , 0.55833333, 0.5875    ])"
      ]
     },
     "execution_count": 200,
     "metadata": {},
     "output_type": "execute_result"
    }
   ],
   "source": [
    "cross_val_score(clf, X, y, cv=5)"
   ]
  },
  {
   "cell_type": "code",
   "execution_count": 132,
   "metadata": {},
   "outputs": [
    {
     "data": {
      "text/plain": [
       "-0.2687826081689919"
      ]
     },
     "execution_count": 132,
     "metadata": {},
     "output_type": "execute_result"
    }
   ],
   "source": [
    "X = cmodel[['train', 'truck', 'car',  'potted plant', 'person']]\n",
    "y = cmodel['Wealth_Index']\n",
    "from sklearn.model_selection import cross_val_score\n",
    "from sklearn.tree import DecisionTreeRegressor\n",
    "X_train, X_test, y_train, y_test = train_test_split(X, y, test_size=0.25, random_state=27)\n",
    "regressor = DecisionTreeRegressor(random_state=0)\n",
    "regressor.fit(X_train, y_train)\n",
    "#pred = regressor.predict(X_test)\n",
    "regressor.score(X_test, y_test)"
   ]
  },
  {
   "cell_type": "code",
   "execution_count": 133,
   "metadata": {},
   "outputs": [
    {
     "data": {
      "text/plain": [
       "array([-0.10406374, -0.11904083, -0.40967795, -0.21874516, -0.31447792])"
      ]
     },
     "execution_count": 133,
     "metadata": {},
     "output_type": "execute_result"
    }
   ],
   "source": [
    "cross_val_score(regressor, X, y)"
   ]
  },
  {
   "cell_type": "code",
   "execution_count": 134,
   "metadata": {},
   "outputs": [],
   "source": [
    "def regressor(indep, dep, n = 100):\n",
    "    for i in range(n):\n",
    "        X = cmodel[indep]\n",
    "        y = cmodel[dep]\n",
    "        X_train, X_test, y_train, y_test = train_test_split(X, y, test_size=0.2, random_state=27)\n",
    "        # Create linear regression object\n",
    "        regr = linear_model.LinearRegression()\n",
    "        # Train the model using the training sets\n",
    "        regr.fit(X_train, y_train)\n",
    "        # Make predictions using the testing set\n",
    "        y_pred = regr.predict(X_test)\n",
    "        # The mean squared error\n",
    "        mse_lst.append(mean_squared_error(y_test, y_pred))\n",
    "        # The coefficient of determination: 1 is perfect prediction\n",
    "        r2_lst.append(r2_score(y_test, y_pred))\n",
    "    return np.mean(r2_lst), np.std(r2_lst), np.mean(mse_lst), np.std(mse_lst)"
   ]
  },
  {
   "cell_type": "code",
   "execution_count": 135,
   "metadata": {},
   "outputs": [],
   "source": [
    "both = r_cols+g_cols+b_cols + ['train', 'truck', 'car',  'potted plant', 'person']\n",
    "rgb = r_cols+g_cols+b_cols\n",
    "objects = ['train', 'truck', 'car',  'potted plant', 'person']"
   ]
  },
  {
   "cell_type": "code",
   "execution_count": 136,
   "metadata": {
    "scrolled": false
   },
   "outputs": [
    {
     "data": {
      "text/plain": [
       "(0.03358310169265703,\n",
       " 0.05131213685975695,\n",
       " 2194145541.0776043,\n",
       " 4603981421.451242)"
      ]
     },
     "execution_count": 136,
     "metadata": {},
     "output_type": "execute_result"
    }
   ],
   "source": [
    "regressor(both, 'Wealth_Index')"
   ]
  },
  {
   "cell_type": "code",
   "execution_count": 137,
   "metadata": {},
   "outputs": [],
   "source": [
    "dependants = cmodel[['total_income_2_b', 'total_deprivations',\n",
    "       'Wealth_Index', 'total_deprivations_2', 'Poor_MPI', 'Severely_Poor_MPI']]"
   ]
  },
  {
   "cell_type": "code",
   "execution_count": 138,
   "metadata": {},
   "outputs": [],
   "source": [
    "cont = ['total_income_2_b', 'total_deprivations',\n",
    "       'Wealth_Index']\n",
    "both_lst = [regressor(both, i) for i in cont]\n",
    "rgb_lst = [regressor(rgb, i) for i in cont]\n",
    "objects_lst = [regressor(objects, i) for i in cont]"
   ]
  },
  {
   "cell_type": "code",
   "execution_count": 139,
   "metadata": {
    "scrolled": false
   },
   "outputs": [],
   "source": [
    "d = {'rgb_mean_r2' : [x[0] for x in rgb_lst] , 'rgb_std_r2' : [x[1] for x in rgb_lst], 'rgb_mean_mse' : [x[2] for x in rgb_lst], \n",
    "    'rgb_std_mse' : [x[3] for x in rgb_lst], 'objects_mean_r2' : [x[0] for x in objects_lst] , 'objects_std_r2' : [x[1] for x in objects_lst], 'objects_mean_mse' : [x[2] for x in objects_lst], \n",
    "    'objects_std_mse' : [x[3] for x in objects_lst], 'both_mean_r2' : [x[0] for x in both_lst] , 'both_std_r2' : [x[1] for x in both_lst], 'both_mean_mse' : [x[2] for x in both_lst], \n",
    "    'both_std_mse' : [x[3] for x in both_lst] }\n",
    "\n"
   ]
  },
  {
   "cell_type": "code",
   "execution_count": 140,
   "metadata": {},
   "outputs": [],
   "source": [
    "scores = pd.DataFrame(data = d, index = cont)"
   ]
  },
  {
   "cell_type": "code",
   "execution_count": 141,
   "metadata": {},
   "outputs": [
    {
     "data": {
      "text/html": [
       "<div>\n",
       "<style scoped>\n",
       "    .dataframe tbody tr th:only-of-type {\n",
       "        vertical-align: middle;\n",
       "    }\n",
       "\n",
       "    .dataframe tbody tr th {\n",
       "        vertical-align: top;\n",
       "    }\n",
       "\n",
       "    .dataframe thead th {\n",
       "        text-align: right;\n",
       "    }\n",
       "</style>\n",
       "<table border=\"1\" class=\"dataframe\">\n",
       "  <thead>\n",
       "    <tr style=\"text-align: right;\">\n",
       "      <th></th>\n",
       "      <th>rgb_mean_r2</th>\n",
       "      <th>rgb_std_r2</th>\n",
       "      <th>rgb_mean_mse</th>\n",
       "      <th>rgb_std_mse</th>\n",
       "      <th>objects_mean_r2</th>\n",
       "      <th>objects_std_r2</th>\n",
       "      <th>objects_mean_mse</th>\n",
       "      <th>objects_std_mse</th>\n",
       "      <th>both_mean_r2</th>\n",
       "      <th>both_std_r2</th>\n",
       "      <th>both_mean_mse</th>\n",
       "      <th>both_std_mse</th>\n",
       "    </tr>\n",
       "  </thead>\n",
       "  <tbody>\n",
       "    <tr>\n",
       "      <th>total_income_2_b</th>\n",
       "      <td>0.033849</td>\n",
       "      <td>0.051108</td>\n",
       "      <td>2.715217e+09</td>\n",
       "      <td>5.030795e+09</td>\n",
       "      <td>0.031191</td>\n",
       "      <td>0.050685</td>\n",
       "      <td>2.860112e+09</td>\n",
       "      <td>5.161713e+09</td>\n",
       "      <td>0.032026</td>\n",
       "      <td>0.051033</td>\n",
       "      <td>2.568022e+09</td>\n",
       "      <td>4.920750e+09</td>\n",
       "    </tr>\n",
       "    <tr>\n",
       "      <th>total_deprivations</th>\n",
       "      <td>0.033063</td>\n",
       "      <td>0.050493</td>\n",
       "      <td>2.630367e+09</td>\n",
       "      <td>4.974051e+09</td>\n",
       "      <td>0.030261</td>\n",
       "      <td>0.050249</td>\n",
       "      <td>2.778395e+09</td>\n",
       "      <td>5.109705e+09</td>\n",
       "      <td>0.031324</td>\n",
       "      <td>0.050283</td>\n",
       "      <td>2.479470e+09</td>\n",
       "      <td>4.857817e+09</td>\n",
       "    </tr>\n",
       "    <tr>\n",
       "      <th>Wealth_Index</th>\n",
       "      <td>0.033429</td>\n",
       "      <td>0.049765</td>\n",
       "      <td>2.550658e+09</td>\n",
       "      <td>4.918817e+09</td>\n",
       "      <td>0.031833</td>\n",
       "      <td>0.050412</td>\n",
       "      <td>2.701217e+09</td>\n",
       "      <td>5.058884e+09</td>\n",
       "      <td>0.034259</td>\n",
       "      <td>0.051903</td>\n",
       "      <td>2.396821e+09</td>\n",
       "      <td>4.796861e+09</td>\n",
       "    </tr>\n",
       "  </tbody>\n",
       "</table>\n",
       "</div>"
      ],
      "text/plain": [
       "                    rgb_mean_r2  rgb_std_r2  rgb_mean_mse   rgb_std_mse  \\\n",
       "total_income_2_b       0.033849    0.051108  2.715217e+09  5.030795e+09   \n",
       "total_deprivations     0.033063    0.050493  2.630367e+09  4.974051e+09   \n",
       "Wealth_Index           0.033429    0.049765  2.550658e+09  4.918817e+09   \n",
       "\n",
       "                    objects_mean_r2  objects_std_r2  objects_mean_mse  \\\n",
       "total_income_2_b           0.031191        0.050685      2.860112e+09   \n",
       "total_deprivations         0.030261        0.050249      2.778395e+09   \n",
       "Wealth_Index               0.031833        0.050412      2.701217e+09   \n",
       "\n",
       "                    objects_std_mse  both_mean_r2  both_std_r2  both_mean_mse  \\\n",
       "total_income_2_b       5.161713e+09      0.032026     0.051033   2.568022e+09   \n",
       "total_deprivations     5.109705e+09      0.031324     0.050283   2.479470e+09   \n",
       "Wealth_Index           5.058884e+09      0.034259     0.051903   2.396821e+09   \n",
       "\n",
       "                    both_std_mse  \n",
       "total_income_2_b    4.920750e+09  \n",
       "total_deprivations  4.857817e+09  \n",
       "Wealth_Index        4.796861e+09  "
      ]
     },
     "execution_count": 141,
     "metadata": {},
     "output_type": "execute_result"
    }
   ],
   "source": [
    "scores"
   ]
  },
  {
   "cell_type": "code",
   "execution_count": 142,
   "metadata": {},
   "outputs": [],
   "source": [
    "def dtree(indep, dep):\n",
    "    X = cmodel[indep]\n",
    "    y = cmodel[dep]\n",
    "    X_train, X_test, y_train, y_test = train_test_split(X, y, test_size=0.2, random_state=27)\n",
    "    params = dtree_grid_search(X,y)\n",
    "    clf = DecisionTreeClassifier(criterion = params['criterion'], max_depth = params['max_depth'])\n",
    "    s = cross_val_score(clf, X, y, cv=5)\n",
    "    return np.mean(s), np.std(s), max(y.value_counts(normalize = True))"
   ]
  },
  {
   "cell_type": "code",
   "execution_count": 143,
   "metadata": {
    "scrolled": true
   },
   "outputs": [
    {
     "data": {
      "text/plain": [
       "(0.572380748051205, 0.014849657306784576, 0.5639288738357324)"
      ]
     },
     "execution_count": 143,
     "metadata": {},
     "output_type": "execute_result"
    }
   ],
   "source": [
    "dtree(objects, 'Poor_MPI')"
   ]
  },
  {
   "cell_type": "code",
   "execution_count": 144,
   "metadata": {},
   "outputs": [],
   "source": [
    "cats = ['total_deprivations_2', 'Poor_MPI', 'Severely_Poor_MPI']\n",
    "\n",
    "cat_both_lst = [dtree(both, i) for i in cats]\n",
    "cat_rgb_lst = [dtree(rgb, i) for i in cats]\n",
    "cat_objects_lst = [dtree(objects, i) for i in cats]"
   ]
  },
  {
   "cell_type": "code",
   "execution_count": 145,
   "metadata": {},
   "outputs": [],
   "source": [
    "d = {'rgb_mean_cv' : [x[0] for x in cat_rgb_lst] , 'rgb_std_cv' : [x[1] for x in cat_rgb_lst], \n",
    "     'objects_mean_cv' : [x[0] for x in cat_objects_lst] , 'objects_std_cv' : [x[1] for x in cat_objects_lst], \n",
    "     'both_mean_cv' : [x[0] for x in cat_both_lst] , 'both_std_cv' : [x[1] for x in cat_both_lst], 'baseline' : [x[2] for x in cat_both_lst]}\n",
    "\n"
   ]
  },
  {
   "cell_type": "code",
   "execution_count": 146,
   "metadata": {},
   "outputs": [],
   "source": [
    "cat_score = pd.DataFrame(data = d, index = cats)"
   ]
  },
  {
   "cell_type": "code",
   "execution_count": 147,
   "metadata": {},
   "outputs": [
    {
     "data": {
      "text/plain": [
       "Index(['rgb_mean_cv', 'rgb_std_cv', 'objects_mean_cv', 'objects_std_cv',\n",
       "       'both_mean_cv', 'both_std_cv', 'baseline'],\n",
       "      dtype='object')"
      ]
     },
     "execution_count": 147,
     "metadata": {},
     "output_type": "execute_result"
    }
   ],
   "source": [
    "cat_score.columns"
   ]
  },
  {
   "cell_type": "code",
   "execution_count": 171,
   "metadata": {
    "scrolled": false
   },
   "outputs": [
    {
     "data": {
      "image/png": "[encoded data removed]",
      "text/plain": [
       "<Figure size 2160x3240 with 1 Axes>"
      ]
     },
     "metadata": {
      "needs_background": "light"
     },
     "output_type": "display_data"
    }
   ],
   "source": [
    "ax = cat_score.plot.bar(rot=0, figsize = (30, 45), title = 'Decision Tree Scores')\n",
    "fig = ax.get_figure()\n",
    "fig.savefig('dtree_score')"
   ]
  },
  {
   "cell_type": "code",
   "execution_count": 172,
   "metadata": {
    "scrolled": false
   },
   "outputs": [
    {
     "data": {
      "image/png": "[encoded data removed]",
      "text/plain": [
       "<Figure size 2160x3240 with 1 Axes>"
      ]
     },
     "metadata": {
      "needs_background": "light"
     },
     "output_type": "display_data"
    }
   ],
   "source": [
    "ax = scores[['rgb_mean_r2', 'rgb_std_r2',\n",
    "       'objects_mean_r2', 'objects_std_r2', 'both_mean_r2', 'both_std_r2']].plot.bar(rot=0, figsize = (30, 45), title = 'Linear Regression Scores')\n",
    "fig = ax.get_figure()\n",
    "fig.savefig('linreg_score')"
   ]
  },
  {
   "cell_type": "code",
   "execution_count": 173,
   "metadata": {},
   "outputs": [
    {
     "data": {
      "image/png": "[encoded data removed]",
      "text/plain": [
       "<Figure size 2160x3240 with 1 Axes>"
      ]
     },
     "metadata": {
      "needs_background": "light"
     },
     "output_type": "display_data"
    }
   ],
   "source": [
    "ax = scores[['rgb_mean_r2', 'objects_mean_r2', 'both_mean_r2']].plot.bar(rot=0, figsize = (30, 45), title = 'Linear Regression Scores')\n",
    "fig = ax.get_figure()\n",
    "fig.savefig('linreg_score_r2')"
   ]
  },
  {
   "cell_type": "code",
   "execution_count": 82,
   "metadata": {},
   "outputs": [],
   "source": [
    "#!pip install cufflinks\n",
    "import cufflinks as cf\n"
   ]
  },
  {
   "cell_type": "code",
   "execution_count": 117,
   "metadata": {},
   "outputs": [],
   "source": [
    "import pandas as pd\n",
    "import numpy as np\n",
    "import matplotlib.pyplot as plt\n",
    "import seaborn as sns\n",
    "from sklearn.neighbors import KNeighborsClassifier\n",
    "from sklearn.metrics import classification_report\n",
    "from sklearn.model_selection import train_test_split\n",
    "from sklearn.metrics import roc_auc_score\n",
    "from sklearn.model_selection import GridSearchCV"
   ]
  },
  {
   "cell_type": "code",
   "execution_count": 129,
   "metadata": {
    "scrolled": true
   },
   "outputs": [
    {
     "name": "stdout",
     "output_type": "stream",
     "text": [
      "              precision    recall  f1-score   support\n",
      "\n",
      "       False       0.43      0.25      0.32       102\n",
      "        True       0.57      0.74      0.64       135\n",
      "\n",
      "    accuracy                           0.53       237\n",
      "   macro avg       0.50      0.50      0.48       237\n",
      "weighted avg       0.51      0.53      0.50       237\n",
      "\n"
     ]
    },
    {
     "data": {
      "text/plain": [
       "0.4978213507625272"
      ]
     },
     "execution_count": 129,
     "metadata": {},
     "output_type": "execute_result"
    }
   ],
   "source": [
    "#Create KNN Object.\n",
    "knn = KNeighborsClassifier()\n",
    "#Create x and y variables.\n",
    "x = cmodel[objects]\n",
    "y = cmodel['Poor_MPI'] == 'Poor'\n",
    "#Split data into training and testing.\n",
    "x_train, x_test, y_train, y_test = train_test_split(x, y, test_size=0.2, random_state=27)\n",
    "#Training the model.\n",
    "knn.fit(x_train, y_train)\n",
    "#Predict test data set.\n",
    "y_pred = knn.predict(x_test)\n",
    "#Checking performance our model with classification report.\n",
    "print(classification_report(y_test, y_pred))\n",
    "#Checking performance our model with ROC Score.\n",
    "roc_auc_score(y_test, y_pred)"
   ]
  },
  {
   "cell_type": "code",
   "execution_count": 196,
   "metadata": {},
   "outputs": [],
   "source": [
    "def knn(indep, dep):\n",
    "    X = cmodel[indep]\n",
    "    y = cmodel[dep]\n",
    "    X_train, X_test, y_train, y_test = train_test_split(X, y, test_size=0.2, random_state=27)\n",
    "    leaf_size = list(range(1,15, 2))\n",
    "    n_neighbors = list(range(1,20, 2))\n",
    "    p=[1,2]\n",
    "    #Convert to dictionary\n",
    "    hyperparameters = dict(leaf_size=leaf_size, n_neighbors=n_neighbors, p=p)\n",
    "    #Create new KNN object\n",
    "    knn_2 = KNeighborsClassifier()\n",
    "    #Use GridSearch\n",
    "    clf = GridSearchCV(knn_2, hyperparameters, cv=10)\n",
    "    #Fit the model\n",
    "    best_model = clf.fit(X,y)\n",
    "    #Print The value of best Hyperparameters\n",
    "    d = dict()\n",
    "    d['Best leaf_size:'] = best_model.best_estimator_.get_params()['leaf_size']\n",
    "    d['Best p:'] = best_model.best_estimator_.get_params()['p']\n",
    "    d['Best n_neighbors:'] = best_model.best_estimator_.get_params()['n_neighbors']\n",
    "    s = cross_val_score(best_model, X, y, cv=5)\n",
    "    return np.mean(s), np.std(s), max(y.value_counts(normalize = True)), d\n",
    "\n",
    "    "
   ]
  },
  {
   "cell_type": "code",
   "execution_count": 192,
   "metadata": {
    "scrolled": true
   },
   "outputs": [
    {
     "name": "stdout",
     "output_type": "stream",
     "text": [
      "CPU times: user 2min 57s, sys: 1.96 s, total: 2min 59s\n",
      "Wall time: 3min 13s\n"
     ]
    },
    {
     "data": {
      "text/plain": [
       "(0.5359615247085746,\n",
       " 0.02234845626805584,\n",
       " 0.5639288738357324,\n",
       " {'Best leaf_size:': 1, 'Best p:': 2, 'Best n_neighbors:': 19})"
      ]
     },
     "execution_count": 192,
     "metadata": {},
     "output_type": "execute_result"
    }
   ],
   "source": [
    "%%time\n",
    "knn(both, 'Poor_MPI')"
   ]
  },
  {
   "cell_type": "code",
   "execution_count": 197,
   "metadata": {},
   "outputs": [
    {
     "name": "stdout",
     "output_type": "stream",
     "text": [
      "CPU times: user 11min 28s, sys: 5.83 s, total: 11min 34s\n",
      "Wall time: 11min 55s\n"
     ]
    }
   ],
   "source": [
    "%%time\n",
    "knn_both_lst = [knn(both, i) for i in cats]\n",
    "knn_rgb_lst = [knn(rgb, i) for i in cats]\n",
    "knn_objects_lst = [knn(objects, i) for i in cats]"
   ]
  },
  {
   "cell_type": "code",
   "execution_count": 199,
   "metadata": {},
   "outputs": [],
   "source": [
    "d = {'rgb_mean_cv' : [x[0] for x in knn_rgb_lst] , 'rgb_std_cv' : [x[1] for x in knn_rgb_lst],\n",
    "     'best parameters' : [x[3] for x in knn_rgb_lst],\n",
    "     'objects_mean_cv' : [x[0] for x in knn_objects_lst] , 'objects_std_cv' : [x[1] for x in knn_objects_lst],\n",
    "     'best parameters' : [x[3] for x in knn_objects_lst],\n",
    "     'both_mean_cv' : [x[0] for x in knn_both_lst] , 'both_std_cv' : [x[1] for x in knn_both_lst],\n",
    "     'best parameters' : [x[3] for x in knn_both_lst],'baseline' : [x[2] for x in knn_both_lst]}\n",
    "\n"
   ]
  },
  {
   "cell_type": "code",
   "execution_count": 200,
   "metadata": {},
   "outputs": [],
   "source": [
    "knn_scores = pd.DataFrame(data = d, index = cats)"
   ]
  },
  {
   "cell_type": "code",
   "execution_count": 201,
   "metadata": {
    "scrolled": false
   },
   "outputs": [
    {
     "data": {
      "image/png": "[encoded data removed]",
      "text/plain": [
       "<Figure size 2160x3240 with 1 Axes>"
      ]
     },
     "metadata": {
      "needs_background": "light"
     },
     "output_type": "display_data"
    }
   ],
   "source": [
    "ax = knn_scores[['rgb_mean_cv', 'rgb_std_cv',\n",
    "       'objects_mean_cv', 'objects_std_cv', 'both_mean_cv', 'both_std_cv', 'baseline']].plot.bar(rot=0, figsize = (30, 45), title = 'Decision Tree Scores')\n",
    "fig = ax.get_figure()\n",
    "fig.savefig('knn_scores')"
   ]
  },
  {
   "cell_type": "code",
   "execution_count": 202,
   "metadata": {},
   "outputs": [],
   "source": [
    "scores.to_csv('regression_scores.csv')\n",
    "cat_score.to_csv('Dtree_scores.csv')\n",
    "knn_scores.to_csv('knn_scores.csv')"
   ]
  },
  {
   "cell_type": "code",
   "execution_count": 203,
   "metadata": {},
   "outputs": [
    {
     "data": {
      "text/html": [
       "<div>\n",
       "<style scoped>\n",
       "    .dataframe tbody tr th:only-of-type {\n",
       "        vertical-align: middle;\n",
       "    }\n",
       "\n",
       "    .dataframe tbody tr th {\n",
       "        vertical-align: top;\n",
       "    }\n",
       "\n",
       "    .dataframe thead th {\n",
       "        text-align: right;\n",
       "    }\n",
       "</style>\n",
       "<table border=\"1\" class=\"dataframe\">\n",
       "  <thead>\n",
       "    <tr style=\"text-align: right;\">\n",
       "      <th></th>\n",
       "      <th>rgb_mean_cv</th>\n",
       "      <th>rgb_std_cv</th>\n",
       "      <th>best parameters</th>\n",
       "      <th>objects_mean_cv</th>\n",
       "      <th>objects_std_cv</th>\n",
       "      <th>both_mean_cv</th>\n",
       "      <th>both_std_cv</th>\n",
       "      <th>baseline</th>\n",
       "    </tr>\n",
       "  </thead>\n",
       "  <tbody>\n",
       "    <tr>\n",
       "      <th>total_deprivations_2</th>\n",
       "      <td>0.219288</td>\n",
       "      <td>0.013710</td>\n",
       "      <td>{'Best leaf_size:': 1, 'Best p:': 2, 'Best n_n...</td>\n",
       "      <td>0.223557</td>\n",
       "      <td>0.029648</td>\n",
       "      <td>0.219288</td>\n",
       "      <td>0.013710</td>\n",
       "      <td>0.225233</td>\n",
       "    </tr>\n",
       "    <tr>\n",
       "      <th>Poor_MPI</th>\n",
       "      <td>0.535962</td>\n",
       "      <td>0.022348</td>\n",
       "      <td>{'Best leaf_size:': 1, 'Best p:': 2, 'Best n_n...</td>\n",
       "      <td>0.542763</td>\n",
       "      <td>0.025512</td>\n",
       "      <td>0.535962</td>\n",
       "      <td>0.022348</td>\n",
       "      <td>0.563929</td>\n",
       "    </tr>\n",
       "    <tr>\n",
       "      <th>Severely_Poor_MPI</th>\n",
       "      <td>0.897547</td>\n",
       "      <td>0.001516</td>\n",
       "      <td>{'Best leaf_size:': 1, 'Best p:': 1, 'Best n_n...</td>\n",
       "      <td>0.897547</td>\n",
       "      <td>0.001516</td>\n",
       "      <td>0.897547</td>\n",
       "      <td>0.001516</td>\n",
       "      <td>0.897544</td>\n",
       "    </tr>\n",
       "  </tbody>\n",
       "</table>\n",
       "</div>"
      ],
      "text/plain": [
       "                      rgb_mean_cv  rgb_std_cv  \\\n",
       "total_deprivations_2     0.219288    0.013710   \n",
       "Poor_MPI                 0.535962    0.022348   \n",
       "Severely_Poor_MPI        0.897547    0.001516   \n",
       "\n",
       "                                                        best parameters  \\\n",
       "total_deprivations_2  {'Best leaf_size:': 1, 'Best p:': 2, 'Best n_n...   \n",
       "Poor_MPI              {'Best leaf_size:': 1, 'Best p:': 2, 'Best n_n...   \n",
       "Severely_Poor_MPI     {'Best leaf_size:': 1, 'Best p:': 1, 'Best n_n...   \n",
       "\n",
       "                      objects_mean_cv  objects_std_cv  both_mean_cv  \\\n",
       "total_deprivations_2         0.223557        0.029648      0.219288   \n",
       "Poor_MPI                     0.542763        0.025512      0.535962   \n",
       "Severely_Poor_MPI            0.897547        0.001516      0.897547   \n",
       "\n",
       "                      both_std_cv  baseline  \n",
       "total_deprivations_2     0.013710  0.225233  \n",
       "Poor_MPI                 0.022348  0.563929  \n",
       "Severely_Poor_MPI        0.001516  0.897544  "
      ]
     },
     "execution_count": 203,
     "metadata": {},
     "output_type": "execute_result"
    }
   ],
   "source": [
    "knn_scores"
   ]
  },
  {
   "cell_type": "code",
   "execution_count": 245,
   "metadata": {
    "scrolled": false
   },
   "outputs": [
    {
     "name": "stderr",
     "output_type": "stream",
     "text": [
      "/Users/yojeremijenko-conel/opt/anaconda3/lib/python3.7/site-packages/sklearn/neural_network/_multilayer_perceptron.py:470: ConvergenceWarning:\n",
      "\n",
      "lbfgs failed to converge (status=1):\n",
      "STOP: TOTAL NO. of ITERATIONS REACHED LIMIT.\n",
      "\n",
      "Increase the number of iterations (max_iter) or scale the data as shown in:\n",
      "    https://scikit-learn.org/stable/modules/preprocessing.html\n",
      "\n",
      "/Users/yojeremijenko-conel/opt/anaconda3/lib/python3.7/site-packages/sklearn/neural_network/_multilayer_perceptron.py:470: ConvergenceWarning:\n",
      "\n",
      "lbfgs failed to converge (status=1):\n",
      "STOP: TOTAL NO. of ITERATIONS REACHED LIMIT.\n",
      "\n",
      "Increase the number of iterations (max_iter) or scale the data as shown in:\n",
      "    https://scikit-learn.org/stable/modules/preprocessing.html\n",
      "\n",
      "/Users/yojeremijenko-conel/opt/anaconda3/lib/python3.7/site-packages/sklearn/neural_network/_multilayer_perceptron.py:470: ConvergenceWarning:\n",
      "\n",
      "lbfgs failed to converge (status=1):\n",
      "STOP: TOTAL NO. of ITERATIONS REACHED LIMIT.\n",
      "\n",
      "Increase the number of iterations (max_iter) or scale the data as shown in:\n",
      "    https://scikit-learn.org/stable/modules/preprocessing.html\n",
      "\n",
      "/Users/yojeremijenko-conel/opt/anaconda3/lib/python3.7/site-packages/sklearn/neural_network/_multilayer_perceptron.py:470: ConvergenceWarning:\n",
      "\n",
      "lbfgs failed to converge (status=1):\n",
      "STOP: TOTAL NO. of ITERATIONS REACHED LIMIT.\n",
      "\n",
      "Increase the number of iterations (max_iter) or scale the data as shown in:\n",
      "    https://scikit-learn.org/stable/modules/preprocessing.html\n",
      "\n",
      "/Users/yojeremijenko-conel/opt/anaconda3/lib/python3.7/site-packages/sklearn/neural_network/_multilayer_perceptron.py:470: ConvergenceWarning:\n",
      "\n",
      "lbfgs failed to converge (status=1):\n",
      "STOP: TOTAL NO. of ITERATIONS REACHED LIMIT.\n",
      "\n",
      "Increase the number of iterations (max_iter) or scale the data as shown in:\n",
      "    https://scikit-learn.org/stable/modules/preprocessing.html\n",
      "\n",
      "/Users/yojeremijenko-conel/opt/anaconda3/lib/python3.7/site-packages/sklearn/neural_network/_multilayer_perceptron.py:470: ConvergenceWarning:\n",
      "\n",
      "lbfgs failed to converge (status=1):\n",
      "STOP: TOTAL NO. of ITERATIONS REACHED LIMIT.\n",
      "\n",
      "Increase the number of iterations (max_iter) or scale the data as shown in:\n",
      "    https://scikit-learn.org/stable/modules/preprocessing.html\n",
      "\n",
      "/Users/yojeremijenko-conel/opt/anaconda3/lib/python3.7/site-packages/sklearn/neural_network/_multilayer_perceptron.py:470: ConvergenceWarning:\n",
      "\n",
      "lbfgs failed to converge (status=1):\n",
      "STOP: TOTAL NO. of ITERATIONS REACHED LIMIT.\n",
      "\n",
      "Increase the number of iterations (max_iter) or scale the data as shown in:\n",
      "    https://scikit-learn.org/stable/modules/preprocessing.html\n",
      "\n",
      "/Users/yojeremijenko-conel/opt/anaconda3/lib/python3.7/site-packages/sklearn/neural_network/_multilayer_perceptron.py:470: ConvergenceWarning:\n",
      "\n",
      "lbfgs failed to converge (status=1):\n",
      "STOP: TOTAL NO. of ITERATIONS REACHED LIMIT.\n",
      "\n",
      "Increase the number of iterations (max_iter) or scale the data as shown in:\n",
      "    https://scikit-learn.org/stable/modules/preprocessing.html\n",
      "\n",
      "/Users/yojeremijenko-conel/opt/anaconda3/lib/python3.7/site-packages/sklearn/neural_network/_multilayer_perceptron.py:470: ConvergenceWarning:\n",
      "\n",
      "lbfgs failed to converge (status=1):\n",
      "STOP: TOTAL NO. of ITERATIONS REACHED LIMIT.\n",
      "\n",
      "Increase the number of iterations (max_iter) or scale the data as shown in:\n",
      "    https://scikit-learn.org/stable/modules/preprocessing.html\n",
      "\n"
     ]
    },
    {
     "data": {
      "text/plain": [
       "0.8738570004272896"
      ]
     },
     "execution_count": 245,
     "metadata": {},
     "output_type": "execute_result"
    }
   ],
   "source": [
    "from sklearn.neural_network import MLPClassifier\n",
    "from sklearn.datasets import make_classification\n",
    "from sklearn.model_selection import train_test_split\n",
    "X = cmodel[objects]\n",
    "y = cmodel['Severely_Poor_MPI']\n",
    "X_train, X_test, y_train, y_test = train_test_split(X, y, stratify=y, random_state=1)\n",
    "clf = MLPClassifier(random_state=1, max_iter=1000,  solver = 'lbfgs').fit(X, y)\n",
    "clf.predict_proba(X_test[:1])\n",
    "np.mean(cross_val_score(clf, X, y, cv=10))"
   ]
  },
  {
   "cell_type": "code",
   "execution_count": null,
   "metadata": {},
   "outputs": [],
   "source": [
    "from sklearn.datasets import load_digits\n",
    "from sklearn.linear_model import Perceptron\n",
    "X, y = load_digits(return_X_y=True)\n",
    "clf = Perceptron(tol=1e-3, random_state=0)\n",
    "clf.fit(X, y)\n",
    "clf.score(X, y)"
   ]
  }
 ],
 "metadata": {
  "kernelspec": {
   "display_name": "Python 3",
   "language": "python",
   "name": "python3"
  },
  "language_info": {
   "codemirror_mode": {
    "name": "ipython",
    "version": 3
   },
   "file_extension": ".py",
   "mimetype": "text/x-python",
   "name": "python",
   "nbconvert_exporter": "python",
   "pygments_lexer": "ipython3",
   "version": "3.7.6"
  }
 },
 "nbformat": 4,
 "nbformat_minor": 4
}
