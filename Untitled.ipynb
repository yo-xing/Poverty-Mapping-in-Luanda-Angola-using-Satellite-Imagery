{
 "cells": [
  {
   "cell_type": "code",
   "execution_count": 69,
   "metadata": {},
   "outputs": [],
   "source": [
    "import pandas as pd\n",
    "import numpy as np\n",
    "import ast\n",
    "import sys\n",
    "import skimage.io\n",
    "import skimage.viewer\n",
    "import os\n",
    "from matplotlib import pyplot as plt\n",
    "import seaborn as sn\n",
    "from sklearn.linear_model import LinearRegression\n",
    "import ast \n",
    "from scipy import stats\n",
    "from matplotlib import pyplot as plt\n",
    "from sklearn import linear_model\n",
    "from sklearn.metrics import mean_squared_error, r2_score\n"
   ]
  },
  {
   "cell_type": "code",
   "execution_count": 30,
   "metadata": {},
   "outputs": [
    {
     "data": {
      "image/png": "[encoded data removed]",
      "text/plain": [
       "<Figure size 432x288 with 1 Axes>"
      ]
     },
     "metadata": {
      "needs_background": "light"
     },
     "output_type": "display_data"
    }
   ],
   "source": [
    "\n",
    "# read original image, in full color, based on command\n",
    "# line argument\n",
    "image = skimage.io.imread(fname=os.path.join(os.getcwd(), 'flattened_pics', '1548779251774.jpg'))\n",
    "\n",
    "# display the image\n",
    "#image = os.path.join(os.getcwd(), 'flattened_pics', '1548779251774.jpg')\n",
    "#viewer = skimage.viewer.Viewer(image)\n",
    "#viewer.show()\n",
    "\n",
    "colors = (\"r\", \"g\", \"b\")\n",
    "channel_ids = (0, 1, 2)\n",
    "hist_dict = dict()\n",
    "# create the histogram plot, with three lines, one for\n",
    "# each color\n",
    "plt.xlim([0, 256])\n",
    "for channel_id, c in zip(channel_ids, colors):\n",
    "    histogram, bin_edges = np.histogram(\n",
    "        image[:, :, channel_id], bins=10, range=(0, 256)\n",
    "    )\n",
    "    hist_dict[c] = histogram\n",
    "    plt.plot(bin_edges[0:-1], histogram, color=c)\n",
    "    \n",
    "\n",
    "plt.xlabel(\"Color value\")\n",
    "plt.ylabel(\"Pixels\")\n",
    "\n",
    "plt.show()"
   ]
  },
  {
   "cell_type": "code",
   "execution_count": 33,
   "metadata": {},
   "outputs": [],
   "source": [
    "def color_dist(x):\n",
    "    image = skimage.io.imread(fname=os.path.join(os.getcwd(), 'flattened_pics', x))\n",
    "    colors = (\"r\", \"g\", \"b\")\n",
    "    channel_ids = (0, 1, 2)\n",
    "    hist_dict = dict()\n",
    "    # create the histogram plot, with three lines, one for\n",
    "    # each color\n",
    "    plt.xlim([0, 256])\n",
    "    for channel_id, c in zip(channel_ids, colors):\n",
    "        histogram, bin_edges = np.histogram(\n",
    "            image[:, :, channel_id], bins=10, range=(0, 256)\n",
    "            )\n",
    "        hist_dict[c] = histogram\n",
    "    return hist_dict"
   ]
  },
  {
   "cell_type": "code",
   "execution_count": 34,
   "metadata": {
    "scrolled": true
   },
   "outputs": [
    {
     "name": "stdout",
     "output_type": "stream",
     "text": [
      "{'r': array([    19,   1002,   2755,  11336,  26929,  41839, 114606, 107142,\n",
      "         1547,     25]), 'g': array([   78,  4007, 12961, 31301, 37796, 52494, 73932, 91230,  3401,\n",
      "           0]), 'b': array([  136,  7768, 28327, 44902, 61100, 54573, 51129, 59179,    86,\n",
      "           0])}\n",
      "{'r': array([31325, 35099, 48499, 56676, 26817, 14340, 11467, 35798, 43740,\n",
      "        3439]), 'g': array([29006, 34191, 48318, 53756, 28018, 14677, 11840, 10867, 11409,\n",
      "       65118]), 'b': array([32820, 39800, 53215, 46647, 25382, 16497, 13546, 12521, 58757,\n",
      "        8015])}\n",
      "{'r': array([20245, 33257, 59157, 47896, 21006, 14648, 22449, 45511, 40353,\n",
      "        2678]), 'g': array([22099, 39091, 56898, 42533, 17003, 13815, 18431, 28428, 48349,\n",
      "       20553]), 'b': array([25084, 43812, 60920, 35832, 17160, 20221, 34040, 25709, 34318,\n",
      "       10104])}\n",
      "{'r': array([23727, 50334, 38888, 16901, 11489, 28901, 49133, 72748, 13197,\n",
      "        1882]), 'g': array([44135, 51315, 30147, 17646, 14853, 17980, 63870, 63719,  3285,\n",
      "         250]), 'b': array([83530, 44796, 23198, 22658, 41643, 25434,  4979, 40480, 20192,\n",
      "         290])}\n",
      "{'r': array([ 34245,  53378, 121619,   6457,   1844,   2031,   9083,  66475,\n",
      "        11953,    115]), 'g': array([ 34454,  63617, 109548,   7345,   2206,   2306,   7039,  63326,\n",
      "        17181,    178]), 'b': array([ 33781,  55459, 116197,   9081,   3298,   5275,  35026,  42797,\n",
      "         4490,   1796])}\n",
      "{'r': array([ 1754, 12389, 36296, 39163, 34993, 64525, 66985, 18358, 30469,\n",
      "        2268]), 'g': array([ 1295, 18829, 38353, 33028, 37848, 50459, 62886, 28925,  4222,\n",
      "       31355]), 'b': array([  961, 21964, 43621, 33292, 41147, 52006, 53263, 24569, 34157,\n",
      "        2220])}\n"
     ]
    },
    {
     "data": {
      "image/png": "[encoded data removed]",
      "text/plain": [
       "<Figure size 432x288 with 1 Axes>"
      ]
     },
     "metadata": {
      "needs_background": "light"
     },
     "output_type": "display_data"
    }
   ],
   "source": [
    "df = pd.read_csv('objects.csv')\n",
    "pics = ['pic_1', 'pic_2_1','pic_2_2',  'pic_2_3',  'pic_2_4', 'pic_2_5']\n",
    "\n",
    "for i in pics:\n",
    "    p = i + 'rgb'\n",
    "    df[p] = df[i].apply(color_dist)\n",
    "    print(df[p][0])"
   ]
  },
  {
   "cell_type": "code",
   "execution_count": 35,
   "metadata": {
    "scrolled": true
   },
   "outputs": [],
   "source": [
    "rgb = df[['Unnamed: 0', 'Unnamed: 1', 'municipality', 'commune', 'pic_1',\n",
    "        'pic_2_1', 'pic_2_2', \n",
    "       'pic_2_3',  'pic_2_4',  'pic_2_5', 'pic_1.1','gpsLatitude', 'gpsLongitude',\n",
    "       'address', 'total_income_2_b', 'total_deprivations',  'Wealth_Index',\n",
    "       'total_deprivations_2', 'Poor_MPI', 'Severely_Poor_MPI', 'pic_1rgb',\n",
    "       'pic_2_1rgb', 'pic_2_2rgb', 'pic_2_3rgb', 'pic_2_4rgb', 'pic_2_5rgb']]"
   ]
  },
  {
   "cell_type": "code",
   "execution_count": 38,
   "metadata": {},
   "outputs": [
    {
     "name": "stderr",
     "output_type": "stream",
     "text": [
      "/Users/yojeremijenko-conel/opt/anaconda3/lib/python3.7/site-packages/ipykernel_launcher.py:11: SettingWithCopyWarning: \n",
      "A value is trying to be set on a copy of a slice from a DataFrame.\n",
      "Try using .loc[row_indexer,col_indexer] = value instead\n",
      "\n",
      "See the caveats in the documentation: https://pandas.pydata.org/pandas-docs/stable/user_guide/indexing.html#returning-a-view-versus-a-copy\n",
      "  # This is added back by InteractiveShellApp.init_path()\n",
      "/Users/yojeremijenko-conel/opt/anaconda3/lib/python3.7/site-packages/ipykernel_launcher.py:13: SettingWithCopyWarning: \n",
      "A value is trying to be set on a copy of a slice from a DataFrame.\n",
      "Try using .loc[row_indexer,col_indexer] = value instead\n",
      "\n",
      "See the caveats in the documentation: https://pandas.pydata.org/pandas-docs/stable/user_guide/indexing.html#returning-a-view-versus-a-copy\n",
      "  del sys.path[0]\n",
      "/Users/yojeremijenko-conel/opt/anaconda3/lib/python3.7/site-packages/ipykernel_launcher.py:15: SettingWithCopyWarning: \n",
      "A value is trying to be set on a copy of a slice from a DataFrame.\n",
      "Try using .loc[row_indexer,col_indexer] = value instead\n",
      "\n",
      "See the caveats in the documentation: https://pandas.pydata.org/pandas-docs/stable/user_guide/indexing.html#returning-a-view-versus-a-copy\n",
      "  from ipykernel import kernelapp as app\n"
     ]
    }
   ],
   "source": [
    "r = lambda x: x['r']\n",
    "g = lambda x: x['g']\n",
    "b = lambda x: x['b']\n",
    "\n",
    "\n",
    "pics = ['pic_1', 'pic_2_1','pic_2_2',  'pic_2_3',  'pic_2_4', 'pic_2_5']\n",
    "\n",
    "for i in pics:\n",
    "    p = i + 'rgb'\n",
    "    red = 'red_' + i\n",
    "    rgb[red] = rgb[p].apply(r)\n",
    "    green = 'green_' + i\n",
    "    rgb[green] = rgb[p].apply(g)\n",
    "    blue = 'blue_' + i\n",
    "    rgb[blue] = rgb[p].apply(b)"
   ]
  },
  {
   "cell_type": "code",
   "execution_count": 46,
   "metadata": {},
   "outputs": [
    {
     "data": {
      "text/plain": [
       "Index(['Unnamed: 0', 'Unnamed: 1', 'municipality', 'commune', 'pic_1',\n",
       "       'pic_2_1', 'pic_2_2', 'pic_2_3', 'pic_2_4', 'pic_2_5', 'pic_1.1',\n",
       "       'gpsLatitude', 'gpsLongitude', 'address', 'total_income_2_b',\n",
       "       'total_deprivations', 'Wealth_Index', 'total_deprivations_2',\n",
       "       'Poor_MPI', 'Severely_Poor_MPI', 'pic_1rgb', 'pic_2_1rgb', 'pic_2_2rgb',\n",
       "       'pic_2_3rgb', 'pic_2_4rgb', 'pic_2_5rgb', 'red_pic_1', 'green_pic_1',\n",
       "       'blue_pic_1', 'red_pic_2_1', 'green_pic_2_1', 'blue_pic_2_1',\n",
       "       'red_pic_2_2', 'green_pic_2_2', 'blue_pic_2_2', 'red_pic_2_3',\n",
       "       'green_pic_2_3', 'blue_pic_2_3', 'red_pic_2_4', 'green_pic_2_4',\n",
       "       'blue_pic_2_4', 'red_pic_2_5', 'green_pic_2_5', 'blue_pic_2_5'],\n",
       "      dtype='object')"
      ]
     },
     "execution_count": 46,
     "metadata": {},
     "output_type": "execute_result"
    }
   ],
   "source": [
    "rgb.columns"
   ]
  },
  {
   "cell_type": "code",
   "execution_count": 48,
   "metadata": {},
   "outputs": [
    {
     "name": "stderr",
     "output_type": "stream",
     "text": [
      "/Users/yojeremijenko-conel/opt/anaconda3/lib/python3.7/site-packages/ipykernel_launcher.py:3: SettingWithCopyWarning: \n",
      "A value is trying to be set on a copy of a slice from a DataFrame.\n",
      "Try using .loc[row_indexer,col_indexer] = value instead\n",
      "\n",
      "See the caveats in the documentation: https://pandas.pydata.org/pandas-docs/stable/user_guide/indexing.html#returning-a-view-versus-a-copy\n",
      "  This is separate from the ipykernel package so we can avoid doing imports until\n"
     ]
    },
    {
     "data": {
      "text/plain": [
       "0       [59726, 116101, 196803, 62521, 48326, 95457, 1...\n",
       "1       [18935, 32568, 78878, 177451, 131900, 110041, ...\n",
       "2       [5366, 18835, 18607, 38534, 77185, 124884, 215...\n",
       "3       [36933, 58058, 83274, 136827, 115271, 210421, ...\n",
       "4       [106016, 58122, 60047, 89337, 111718, 183437, ...\n",
       "                              ...                        \n",
       "1195    [23932, 68734, 89627, 53949, 76912, 159421, 11...\n",
       "1196    [5408, 39735, 40330, 92850, 145584, 125704, 10...\n",
       "1197    [1418, 31272, 44450, 71296, 78803, 92586, 1666...\n",
       "1198    [96347, 101242, 68734, 73510, 41103, 48059, 45...\n",
       "1199    [4657, 30684, 25372, 43339, 72125, 209814, 252...\n",
       "Length: 1200, dtype: object"
      ]
     },
     "execution_count": 48,
     "metadata": {},
     "output_type": "execute_result"
    }
   ],
   "source": [
    "pics = ['pic_2_1','pic_2_2',  'pic_2_3',  'pic_2_4', 'pic_2_5']\n",
    "\n",
    "rgb['r_total'] = rgb['red_pic_1'] + rgb['red_pic_2_1'] + rgb['red_pic_2_2']\n",
    "+ rgb['red_pic_2_3'] + rgb['red_pic_2_4'] + rgb['red_pic_2_5']\n"
   ]
  },
  {
   "cell_type": "code",
   "execution_count": 49,
   "metadata": {},
   "outputs": [
    {
     "name": "stderr",
     "output_type": "stream",
     "text": [
      "/Users/yojeremijenko-conel/opt/anaconda3/lib/python3.7/site-packages/ipykernel_launcher.py:1: SettingWithCopyWarning: \n",
      "A value is trying to be set on a copy of a slice from a DataFrame.\n",
      "Try using .loc[row_indexer,col_indexer] = value instead\n",
      "\n",
      "See the caveats in the documentation: https://pandas.pydata.org/pandas-docs/stable/user_guide/indexing.html#returning-a-view-versus-a-copy\n",
      "  \"\"\"Entry point for launching an IPython kernel.\n"
     ]
    },
    {
     "data": {
      "text/plain": [
       "0       [79884, 133761, 178048, 58019, 54907, 70745, 1...\n",
       "1       [27192, 33296, 94825, 192868, 150908, 92662, 4...\n",
       "2       [7440, 43005, 35683, 55709, 79304, 109228, 279...\n",
       "3       [48553, 73096, 87214, 133176, 82270, 209469, 1...\n",
       "4       [111250, 58203, 66685, 102664, 110402, 144488,...\n",
       "                              ...                        \n",
       "1195    [23226, 69908, 88153, 53184, 51066, 156148, 11...\n",
       "1196    [2141, 39717, 51689, 103437, 149537, 151119, 8...\n",
       "1197    [3006, 50226, 73476, 83103, 117050, 228163, 20...\n",
       "1198    [99399, 129790, 78509, 53346, 36137, 45041, 31...\n",
       "1199    [4319, 31706, 33978, 62176, 83251, 226537, 362...\n",
       "Length: 1200, dtype: object"
      ]
     },
     "execution_count": 49,
     "metadata": {},
     "output_type": "execute_result"
    }
   ],
   "source": [
    "rgb['g_total'] = rgb['green_pic_1'] + rgb['green_pic_2_1'] + rgb['green_pic_2_2']\n",
    "+ rgb['green_pic_2_3'] + rgb['green_pic_2_4'] + rgb['green_pic_2_5']"
   ]
  },
  {
   "cell_type": "code",
   "execution_count": 50,
   "metadata": {},
   "outputs": [
    {
     "name": "stderr",
     "output_type": "stream",
     "text": [
      "/Users/yojeremijenko-conel/opt/anaconda3/lib/python3.7/site-packages/ipykernel_launcher.py:1: SettingWithCopyWarning: \n",
      "A value is trying to be set on a copy of a slice from a DataFrame.\n",
      "Try using .loc[row_indexer,col_indexer] = value instead\n",
      "\n",
      "See the caveats in the documentation: https://pandas.pydata.org/pandas-docs/stable/user_guide/indexing.html#returning-a-view-versus-a-copy\n",
      "  \"\"\"Entry point for launching an IPython kernel.\n"
     ]
    },
    {
     "data": {
      "text/plain": [
       "0       [34742, 77423, 159818, 42373, 44445, 57281, 88...\n",
       "1       [32739, 46998, 104700, 117416, 95996, 25397, 5...\n",
       "2       [31475, 46984, 47524, 45847, 89061, 39788, 810...\n",
       "3       [78462, 81357, 113861, 86817, 77053, 69866, 46...\n",
       "4       [63676, 46335, 84935, 81749, 80237, 156060, 55...\n",
       "                              ...                        \n",
       "1195    [12298, 83958, 89479, 46321, 39171, 51580, 773...\n",
       "1196    [7349, 31124, 34813, 73688, 126310, 89040, 582...\n",
       "1197    [2555, 27175, 54609, 68298, 86979, 193271, 110...\n",
       "1198    [92603, 102541, 36833, 26507, 34769, 27847, 56...\n",
       "1199    [12025, 52902, 43629, 49148, 71457, 193335, 12...\n",
       "Length: 1200, dtype: object"
      ]
     },
     "execution_count": 50,
     "metadata": {},
     "output_type": "execute_result"
    }
   ],
   "source": [
    "rgb['b_total'] = rgb['blue_pic_1'] + rgb['blue_pic_2_1'] + rgb['blue_pic_2_2'] + rgb['blue_pic_2_3']\n",
    "+ rgb['blue_pic_2_4'] + rgb['blue_pic_2_5']"
   ]
  },
  {
   "cell_type": "code",
   "execution_count": 51,
   "metadata": {},
   "outputs": [
    {
     "data": {
      "text/html": [
       "<div>\n",
       "<style scoped>\n",
       "    .dataframe tbody tr th:only-of-type {\n",
       "        vertical-align: middle;\n",
       "    }\n",
       "\n",
       "    .dataframe tbody tr th {\n",
       "        vertical-align: top;\n",
       "    }\n",
       "\n",
       "    .dataframe thead th {\n",
       "        text-align: right;\n",
       "    }\n",
       "</style>\n",
       "<table border=\"1\" class=\"dataframe\">\n",
       "  <thead>\n",
       "    <tr style=\"text-align: right;\">\n",
       "      <th></th>\n",
       "      <th>Unnamed: 0</th>\n",
       "      <th>Unnamed: 1</th>\n",
       "      <th>municipality</th>\n",
       "      <th>commune</th>\n",
       "      <th>pic_1</th>\n",
       "      <th>pic_2_1</th>\n",
       "      <th>pic_2_2</th>\n",
       "      <th>pic_2_3</th>\n",
       "      <th>pic_2_4</th>\n",
       "      <th>pic_2_5</th>\n",
       "      <th>...</th>\n",
       "      <th>blue_pic_2_3</th>\n",
       "      <th>red_pic_2_4</th>\n",
       "      <th>green_pic_2_4</th>\n",
       "      <th>blue_pic_2_4</th>\n",
       "      <th>red_pic_2_5</th>\n",
       "      <th>green_pic_2_5</th>\n",
       "      <th>blue_pic_2_5</th>\n",
       "      <th>r_total</th>\n",
       "      <th>g_total</th>\n",
       "      <th>b_total</th>\n",
       "    </tr>\n",
       "  </thead>\n",
       "  <tbody>\n",
       "    <tr>\n",
       "      <th>0</th>\n",
       "      <td>uuid:00067e52-4e8c-4035-b16e-c977266597d7</td>\n",
       "      <td>Jan 29</td>\n",
       "      <td>Cazenga</td>\n",
       "      <td>Hoji Ya Henda</td>\n",
       "      <td>1548773782221.jpg</td>\n",
       "      <td>1548773793789.jpg</td>\n",
       "      <td>1548773803967.jpg</td>\n",
       "      <td>1548773819169.jpg</td>\n",
       "      <td>1548773827662.jpg</td>\n",
       "      <td>1548773841325.jpg</td>\n",
       "      <td>...</td>\n",
       "      <td>[83530, 44796, 23198, 22658, 41643, 25434, 497...</td>\n",
       "      <td>[34245, 53378, 121619, 6457, 1844, 2031, 9083,...</td>\n",
       "      <td>[34454, 63617, 109548, 7345, 2206, 2306, 7039,...</td>\n",
       "      <td>[33781, 55459, 116197, 9081, 3298, 5275, 35026...</td>\n",
       "      <td>[1754, 12389, 36296, 39163, 34993, 64525, 6698...</td>\n",
       "      <td>[1295, 18829, 38353, 33028, 37848, 50459, 6288...</td>\n",
       "      <td>[961, 21964, 43621, 33292, 41147, 52006, 53263...</td>\n",
       "      <td>[51589, 69358, 110411, 115908, 74752, 70827, 1...</td>\n",
       "      <td>[51183, 77289, 118177, 127590, 82817, 80986, 1...</td>\n",
       "      <td>[141570, 136176, 165660, 150039, 145285, 11672...</td>\n",
       "    </tr>\n",
       "    <tr>\n",
       "      <th>1</th>\n",
       "      <td>uuid:001e9a75-3867-4f2f-8cfa-ac55d5f21e1e</td>\n",
       "      <td>Jan 29</td>\n",
       "      <td>Cazenga</td>\n",
       "      <td>Hoji Ya Henda</td>\n",
       "      <td>1548779218481.jpg</td>\n",
       "      <td>1548779234464.jpg</td>\n",
       "      <td>1548779251774.jpg</td>\n",
       "      <td>1548779271753.jpg</td>\n",
       "      <td>1548779283846.jpg</td>\n",
       "      <td>1548779298188.jpg</td>\n",
       "      <td>...</td>\n",
       "      <td>[6905, 13985, 108639, 73150, 9452, 2387, 2264,...</td>\n",
       "      <td>[3768, 12603, 20673, 35894, 56143, 45293, 5383...</td>\n",
       "      <td>[2908, 11052, 28633, 37254, 54782, 62186, 3154...</td>\n",
       "      <td>[3768, 19673, 30293, 73033, 84582, 13386, 4148...</td>\n",
       "      <td>[9850, 14381, 17148, 34173, 33037, 53982, 3884...</td>\n",
       "      <td>[17985, 16789, 25477, 42126, 55949, 23611, 126...</td>\n",
       "      <td>[28971, 27325, 74407, 44383, 11414, 12011, 506...</td>\n",
       "      <td>[31807, 35972, 37738, 81714, 104236, 166180, 1...</td>\n",
       "      <td>[54340, 30396, 63391, 111458, 128990, 162099, ...</td>\n",
       "      <td>[92626, 98108, 233126, 259457, 88432, 119406, ...</td>\n",
       "    </tr>\n",
       "    <tr>\n",
       "      <th>2</th>\n",
       "      <td>uuid:0048aeab-1661-4c12-9e82-d75c54c6c6d3</td>\n",
       "      <td>Feb 9</td>\n",
       "      <td>Viana</td>\n",
       "      <td>Viana Sede</td>\n",
       "      <td>1549704140807.jpg</td>\n",
       "      <td>1549704150739.jpg</td>\n",
       "      <td>1549704163506.jpg</td>\n",
       "      <td>1549704174059.jpg</td>\n",
       "      <td>1549704182681.jpg</td>\n",
       "      <td>1549704197699.jpg</td>\n",
       "      <td>...</td>\n",
       "      <td>[7085, 17313, 20118, 53135, 69997, 44194, 1169...</td>\n",
       "      <td>[1637, 5538, 4613, 8775, 19628, 32493, 83434, ...</td>\n",
       "      <td>[2181, 19621, 12866, 9426, 22765, 16758, 13099...</td>\n",
       "      <td>[16824, 30183, 20088, 26440, 41095, 10635, 210...</td>\n",
       "      <td>[1803, 8160, 6250, 15989, 27884, 28911, 86437,...</td>\n",
       "      <td>[1614, 14571, 8339, 30073, 11548, 20665, 13020...</td>\n",
       "      <td>[14651, 16801, 27436, 19407, 47966, 29153, 600...</td>\n",
       "      <td>[5201, 31577, 46027, 80096, 107359, 86269, 977...</td>\n",
       "      <td>[7745, 56200, 81743, 105191, 101106, 99769, 78...</td>\n",
       "      <td>[40369, 101505, 117001, 166817, 183115, 107159...</td>\n",
       "    </tr>\n",
       "    <tr>\n",
       "      <th>3</th>\n",
       "      <td>uuid:006c58c6-cefd-4552-bd9a-7200d11b5bfb</td>\n",
       "      <td>Feb 8</td>\n",
       "      <td>Viana</td>\n",
       "      <td>Viana Sede</td>\n",
       "      <td>1549638155112.jpg</td>\n",
       "      <td>1549638165019.jpg</td>\n",
       "      <td>1549638176305.jpg</td>\n",
       "      <td>1549638185914.jpg</td>\n",
       "      <td>1549638195758.jpg</td>\n",
       "      <td>1549638203739.jpg</td>\n",
       "      <td>...</td>\n",
       "      <td>[1245, 12452, 9766, 22143, 59658, 149071, 5237...</td>\n",
       "      <td>[26367, 16911, 30940, 106957, 38196, 15095, 43...</td>\n",
       "      <td>[32209, 15580, 47030, 109519, 24406, 7899, 276...</td>\n",
       "      <td>[36491, 32923, 100261, 54683, 11084, 3546, 755...</td>\n",
       "      <td>[8796, 32892, 40722, 15205, 31299, 29631, 8787...</td>\n",
       "      <td>[14511, 45739, 31230, 9835, 12991, 81889, 6829...</td>\n",
       "      <td>[41971, 48434, 13600, 32134, 65969, 66320, 386...</td>\n",
       "      <td>[14566, 41658, 74619, 102259, 167040, 250677, ...</td>\n",
       "      <td>[3638, 37075, 48664, 130609, 193928, 221501, 1...</td>\n",
       "      <td>[10075, 50313, 87922, 216062, 266363, 315120, ...</td>\n",
       "    </tr>\n",
       "    <tr>\n",
       "      <th>4</th>\n",
       "      <td>uuid:00ae6e8f-93b1-475f-a0ba-69eb6bd6b942</td>\n",
       "      <td>Jan 31</td>\n",
       "      <td>Maianga</td>\n",
       "      <td>Cassequel</td>\n",
       "      <td>1548948507643.jpg</td>\n",
       "      <td>1548948520502.jpg</td>\n",
       "      <td>1548948534497.jpg</td>\n",
       "      <td>1548948545460.jpg</td>\n",
       "      <td>1548948558899.jpg</td>\n",
       "      <td>1548948571618.jpg</td>\n",
       "      <td>...</td>\n",
       "      <td>[86187, 19559, 16043, 5336, 2016, 31790, 14604...</td>\n",
       "      <td>[44939, 18664, 10944, 14385, 42980, 123092, 49...</td>\n",
       "      <td>[46671, 18574, 10743, 21463, 45234, 96726, 650...</td>\n",
       "      <td>[56765, 18519, 11238, 26163, 49296, 131377, 11...</td>\n",
       "      <td>[1967, 9317, 34786, 65730, 56039, 41026, 57688...</td>\n",
       "      <td>[2219, 11528, 41977, 72902, 52287, 30180, 4590...</td>\n",
       "      <td>[6911, 27816, 73697, 55586, 30941, 24683, 4484...</td>\n",
       "      <td>[29172, 30710, 83129, 126653, 162653, 188571, ...</td>\n",
       "      <td>[29865, 37188, 98658, 161322, 147574, 152380, ...</td>\n",
       "      <td>[128387, 75202, 161570, 166831, 129789, 182244...</td>\n",
       "    </tr>\n",
       "  </tbody>\n",
       "</table>\n",
       "<p>5 rows × 47 columns</p>\n",
       "</div>"
      ],
      "text/plain": [
       "                                  Unnamed: 0 Unnamed: 1 municipality  \\\n",
       "0  uuid:00067e52-4e8c-4035-b16e-c977266597d7     Jan 29      Cazenga   \n",
       "1  uuid:001e9a75-3867-4f2f-8cfa-ac55d5f21e1e     Jan 29      Cazenga   \n",
       "2  uuid:0048aeab-1661-4c12-9e82-d75c54c6c6d3      Feb 9        Viana   \n",
       "3  uuid:006c58c6-cefd-4552-bd9a-7200d11b5bfb      Feb 8        Viana   \n",
       "4  uuid:00ae6e8f-93b1-475f-a0ba-69eb6bd6b942     Jan 31      Maianga   \n",
       "\n",
       "         commune              pic_1            pic_2_1            pic_2_2  \\\n",
       "0  Hoji Ya Henda  1548773782221.jpg  1548773793789.jpg  1548773803967.jpg   \n",
       "1  Hoji Ya Henda  1548779218481.jpg  1548779234464.jpg  1548779251774.jpg   \n",
       "2     Viana Sede  1549704140807.jpg  1549704150739.jpg  1549704163506.jpg   \n",
       "3     Viana Sede  1549638155112.jpg  1549638165019.jpg  1549638176305.jpg   \n",
       "4      Cassequel  1548948507643.jpg  1548948520502.jpg  1548948534497.jpg   \n",
       "\n",
       "             pic_2_3            pic_2_4            pic_2_5  ...  \\\n",
       "0  1548773819169.jpg  1548773827662.jpg  1548773841325.jpg  ...   \n",
       "1  1548779271753.jpg  1548779283846.jpg  1548779298188.jpg  ...   \n",
       "2  1549704174059.jpg  1549704182681.jpg  1549704197699.jpg  ...   \n",
       "3  1549638185914.jpg  1549638195758.jpg  1549638203739.jpg  ...   \n",
       "4  1548948545460.jpg  1548948558899.jpg  1548948571618.jpg  ...   \n",
       "\n",
       "                                        blue_pic_2_3  \\\n",
       "0  [83530, 44796, 23198, 22658, 41643, 25434, 497...   \n",
       "1  [6905, 13985, 108639, 73150, 9452, 2387, 2264,...   \n",
       "2  [7085, 17313, 20118, 53135, 69997, 44194, 1169...   \n",
       "3  [1245, 12452, 9766, 22143, 59658, 149071, 5237...   \n",
       "4  [86187, 19559, 16043, 5336, 2016, 31790, 14604...   \n",
       "\n",
       "                                         red_pic_2_4  \\\n",
       "0  [34245, 53378, 121619, 6457, 1844, 2031, 9083,...   \n",
       "1  [3768, 12603, 20673, 35894, 56143, 45293, 5383...   \n",
       "2  [1637, 5538, 4613, 8775, 19628, 32493, 83434, ...   \n",
       "3  [26367, 16911, 30940, 106957, 38196, 15095, 43...   \n",
       "4  [44939, 18664, 10944, 14385, 42980, 123092, 49...   \n",
       "\n",
       "                                       green_pic_2_4  \\\n",
       "0  [34454, 63617, 109548, 7345, 2206, 2306, 7039,...   \n",
       "1  [2908, 11052, 28633, 37254, 54782, 62186, 3154...   \n",
       "2  [2181, 19621, 12866, 9426, 22765, 16758, 13099...   \n",
       "3  [32209, 15580, 47030, 109519, 24406, 7899, 276...   \n",
       "4  [46671, 18574, 10743, 21463, 45234, 96726, 650...   \n",
       "\n",
       "                                        blue_pic_2_4  \\\n",
       "0  [33781, 55459, 116197, 9081, 3298, 5275, 35026...   \n",
       "1  [3768, 19673, 30293, 73033, 84582, 13386, 4148...   \n",
       "2  [16824, 30183, 20088, 26440, 41095, 10635, 210...   \n",
       "3  [36491, 32923, 100261, 54683, 11084, 3546, 755...   \n",
       "4  [56765, 18519, 11238, 26163, 49296, 131377, 11...   \n",
       "\n",
       "                                         red_pic_2_5  \\\n",
       "0  [1754, 12389, 36296, 39163, 34993, 64525, 6698...   \n",
       "1  [9850, 14381, 17148, 34173, 33037, 53982, 3884...   \n",
       "2  [1803, 8160, 6250, 15989, 27884, 28911, 86437,...   \n",
       "3  [8796, 32892, 40722, 15205, 31299, 29631, 8787...   \n",
       "4  [1967, 9317, 34786, 65730, 56039, 41026, 57688...   \n",
       "\n",
       "                                       green_pic_2_5  \\\n",
       "0  [1295, 18829, 38353, 33028, 37848, 50459, 6288...   \n",
       "1  [17985, 16789, 25477, 42126, 55949, 23611, 126...   \n",
       "2  [1614, 14571, 8339, 30073, 11548, 20665, 13020...   \n",
       "3  [14511, 45739, 31230, 9835, 12991, 81889, 6829...   \n",
       "4  [2219, 11528, 41977, 72902, 52287, 30180, 4590...   \n",
       "\n",
       "                                        blue_pic_2_5  \\\n",
       "0  [961, 21964, 43621, 33292, 41147, 52006, 53263...   \n",
       "1  [28971, 27325, 74407, 44383, 11414, 12011, 506...   \n",
       "2  [14651, 16801, 27436, 19407, 47966, 29153, 600...   \n",
       "3  [41971, 48434, 13600, 32134, 65969, 66320, 386...   \n",
       "4  [6911, 27816, 73697, 55586, 30941, 24683, 4484...   \n",
       "\n",
       "                                             r_total  \\\n",
       "0  [51589, 69358, 110411, 115908, 74752, 70827, 1...   \n",
       "1  [31807, 35972, 37738, 81714, 104236, 166180, 1...   \n",
       "2  [5201, 31577, 46027, 80096, 107359, 86269, 977...   \n",
       "3  [14566, 41658, 74619, 102259, 167040, 250677, ...   \n",
       "4  [29172, 30710, 83129, 126653, 162653, 188571, ...   \n",
       "\n",
       "                                             g_total  \\\n",
       "0  [51183, 77289, 118177, 127590, 82817, 80986, 1...   \n",
       "1  [54340, 30396, 63391, 111458, 128990, 162099, ...   \n",
       "2  [7745, 56200, 81743, 105191, 101106, 99769, 78...   \n",
       "3  [3638, 37075, 48664, 130609, 193928, 221501, 1...   \n",
       "4  [29865, 37188, 98658, 161322, 147574, 152380, ...   \n",
       "\n",
       "                                             b_total  \n",
       "0  [141570, 136176, 165660, 150039, 145285, 11672...  \n",
       "1  [92626, 98108, 233126, 259457, 88432, 119406, ...  \n",
       "2  [40369, 101505, 117001, 166817, 183115, 107159...  \n",
       "3  [10075, 50313, 87922, 216062, 266363, 315120, ...  \n",
       "4  [128387, 75202, 161570, 166831, 129789, 182244...  \n",
       "\n",
       "[5 rows x 47 columns]"
      ]
     },
     "execution_count": 51,
     "metadata": {},
     "output_type": "execute_result"
    }
   ],
   "source": [
    "rgb.head()"
   ]
  },
  {
   "cell_type": "code",
   "execution_count": 53,
   "metadata": {},
   "outputs": [],
   "source": [
    "r_cols = ['r' + str(i) for i in range(10)]\n",
    "g_cols = ['g' + str(i) for i in range(10)]\n",
    "b_cols = ['b' + str(i) for i in range(10)]"
   ]
  },
  {
   "cell_type": "code",
   "execution_count": 54,
   "metadata": {},
   "outputs": [],
   "source": [
    "r_df = pd.DataFrame(rgb['r_total'].to_list(), columns= r_cols)\n",
    "g_df = pd.DataFrame(rgb['g_total'].to_list(), columns= g_cols)\n",
    "b_df = pd.DataFrame(rgb['b_total'].to_list(), columns= b_cols)"
   ]
  },
  {
   "cell_type": "code",
   "execution_count": 87,
   "metadata": {
    "scrolled": true
   },
   "outputs": [
    {
     "data": {
      "text/plain": [
       "522"
      ]
     },
     "execution_count": 87,
     "metadata": {},
     "output_type": "execute_result"
    }
   ],
   "source": []
  },
  {
   "cell_type": "code",
   "execution_count": 58,
   "metadata": {},
   "outputs": [],
   "source": [
    "cmodel = pd.concat([r_df, g_df, b_df], axis=1, sort=False)\n",
    "cmodel[['total_income_2_b',\n",
    "       'total_deprivations', 'Wealth_Index', 'total_deprivations_2',\n",
    "       'Poor_MPI', 'Severely_Poor_MPI']] = rgb[['total_income_2_b',\n",
    "       'total_deprivations', 'Wealth_Index', 'total_deprivations_2',\n",
    "       'Poor_MPI', 'Severely_Poor_MPI']]"
   ]
  },
  {
   "cell_type": "code",
   "execution_count": 66,
   "metadata": {},
   "outputs": [
    {
     "data": {
      "image/png": "[encoded data removed]",
      "text/plain": [
       "<Figure size 432x288 with 2 Axes>"
      ]
     },
     "metadata": {
      "needs_background": "light"
     },
     "output_type": "display_data"
    }
   ],
   "source": [
    "corrMatrix = cmodel.corr()\n",
    "sn.heatmap(corrMatrix, annot=False)\n",
    "plt.show()"
   ]
  },
  {
   "cell_type": "code",
   "execution_count": 70,
   "metadata": {
    "scrolled": true
   },
   "outputs": [
    {
     "name": "stdout",
     "output_type": "stream",
     "text": [
      "Coefficients: \n",
      " [-5552746.74678675 -5552746.74678119 -5552746.74678206 -5552746.74679292\n",
      " -5552746.7467915  -5552746.74678617 -5552746.74678728 -5552746.74678396\n",
      " -5552746.74678909 -5552746.74678946  1998988.82884032  1998988.82884648\n",
      "  1998988.82883814  1998988.82884578  1998988.82884314  1998988.82884182\n",
      "  1998988.82884241  1998988.8288394   1998988.82884583  1998988.82885305\n",
      "  2665318.43846113  2665318.43846067  2665318.43845752  2665318.43845734\n",
      "  2665318.4384585   2665318.43845797  2665318.43846202  2665318.43845686\n",
      "  2665318.43846134  2665318.43844861]\n",
      "Mean squared error: 4.43\n",
      "R2: 0.0973\n"
     ]
    }
   ],
   "source": [
    "#10 bin regression\n",
    "x = cmodel[r_cols+g_cols+b_cols]\n",
    "y = cmodel['Wealth_Index']\n",
    "linear_regression = LinearRegression()\n",
    "linear_regression.fit(x, y)\n",
    "\n",
    "pred = linear_regression.predict(x)\n",
    "\n",
    "\n",
    "print('Coefficients: \\n', linear_regression.coef_)\n",
    "\n",
    "# The mean squared error\n",
    "print('Mean squared error: %.2f'\n",
    "      % mean_squared_error(y, pred))\n",
    "\n",
    "print('R2: %.4f'\n",
    "      % r2_score(y, pred))\n",
    "\n",
    "\n",
    "\n",
    "\n"
   ]
  },
  {
   "cell_type": "code",
   "execution_count": null,
   "metadata": {},
   "outputs": [],
   "source": [
    "cmodel[[]]"
   ]
  },
  {
   "cell_type": "code",
   "execution_count": 74,
   "metadata": {
    "scrolled": true
   },
   "outputs": [
    {
     "data": {
      "text/plain": [
       "0       0.334\n",
       "1       0.390\n",
       "2       0.223\n",
       "3       0.223\n",
       "4       0.390\n",
       "        ...  \n",
       "1195    0.390\n",
       "1196    0.446\n",
       "1197    0.335\n",
       "1198    0.558\n",
       "1199    0.223\n",
       "Name: total_deprivations, Length: 1200, dtype: float64"
      ]
     },
     "execution_count": 74,
     "metadata": {},
     "output_type": "execute_result"
    }
   ],
   "source": [
    "df['total_deprivations']"
   ]
  },
  {
   "cell_type": "code",
   "execution_count": 126,
   "metadata": {},
   "outputs": [],
   "source": [
    "cmodel[['train', 'truck', 'car',  'potted plant','person']] = df[['train', 'truck', 'car',  'potted plant','person']]"
   ]
  },
  {
   "cell_type": "code",
   "execution_count": 128,
   "metadata": {
    "scrolled": false
   },
   "outputs": [
    {
     "name": "stdout",
     "output_type": "stream",
     "text": [
      "Coefficients: \n",
      " [ 7.78377051e-07  4.65137879e-06  3.92512977e-06 -4.49292461e-06\n",
      " -4.42191831e-06  1.05148307e-06 -2.23506674e-07  2.87401571e-06\n",
      " -1.59359711e-06 -1.42864540e-06 -4.33307678e-06  2.47191761e-06\n",
      " -5.23399429e-06  2.03917319e-06 -4.49484188e-07 -1.55572885e-06\n",
      " -8.32255968e-07 -4.04362201e-06  3.38556440e-06  9.67130263e-06\n",
      "  3.95479975e-06  2.47326636e-06  6.34074323e-08 -2.49244454e-07\n",
      "  9.66759730e-07  3.18853461e-07  3.38659903e-06 -2.01510312e-06\n",
      "  1.91394857e-06 -9.32022232e-06  8.97973078e-01  3.40001654e-02\n",
      "  2.58070179e-01  1.96197564e-01 -4.94659070e-02]\n",
      "Mean squared error: 4.08\n",
      "R2: 0.1684\n"
     ]
    }
   ],
   "source": [
    "#10 bin regression with object deterction Wealth Index\n",
    "x = cmodel[r_cols+g_cols+b_cols + ['train', 'truck', 'car',  'potted plant', 'person']]\n",
    "y = cmodel['Wealth_Index']\n",
    "linear_regression = LinearRegression()\n",
    "linear_regression.fit(x, y)\n",
    "\n",
    "pred = linear_regression.predict(x)\n",
    "\n",
    "\n",
    "print('Coefficients: \\n', linear_regression.coef_)\n",
    "\n",
    "# The mean squared error\n",
    "print('Mean squared error: %.2f'\n",
    "      % mean_squared_error(y, pred))\n",
    "\n",
    "print('R2: %.4f'\n",
    "      % r2_score(y, pred))\n",
    "\n",
    "\n"
   ]
  },
  {
   "cell_type": "code",
   "execution_count": 131,
   "metadata": {
    "scrolled": true
   },
   "outputs": [
    {
     "name": "stdout",
     "output_type": "stream",
     "text": [
      "Coefficients: \n",
      " [ 1.80057932e-07  5.66062754e-08 -2.58591583e-07  2.28580417e-07\n",
      " -1.76087206e-08  2.89178774e-09 -7.69963956e-08 -6.99609153e-08\n",
      " -1.65238332e-07  1.44226328e-07  5.71648207e-08 -3.79085305e-08\n",
      "  2.44542511e-07 -8.40410430e-09 -1.12544157e-07  7.23810030e-08\n",
      "  6.10609427e-08  2.64361458e-07 -1.96566461e-07 -3.20120877e-07\n",
      " -1.89660154e-07 -2.44848947e-07  1.64911021e-07  3.34686469e-08\n",
      " -2.89434229e-08 -5.43839769e-08 -1.36671331e-07 -6.08292160e-08\n",
      "  3.67283582e-07  1.81629001e-07 -5.61964737e-02  4.25438554e-03\n",
      " -5.72550321e-03  1.11795282e-03 -8.50667780e-04]\n",
      "Mean squared error: 0.02\n",
      "R2: 0.0498\n"
     ]
    }
   ],
   "source": [
    "#10 bin regression with object deterction for total deprevtion\n",
    "x = cmodel[r_cols+g_cols+b_cols + ['train', 'truck', 'car', 'person',  'potted plant']]\n",
    "y = cmodel['total_deprivations']\n",
    "linear_regression = LinearRegression()\n",
    "linear_regression.fit(x, y)\n",
    "\n",
    "pred = linear_regression.predict(x)\n",
    "\n",
    "\n",
    "print('Coefficients: \\n', linear_regression.coef_)\n",
    "\n",
    "# The mean squared error\n",
    "print('Mean squared error: %.2f'\n",
    "      % mean_squared_error(y, pred))\n",
    "\n",
    "print('R2: %.4f'\n",
    "      % r2_score(y, pred))\n",
    "\n",
    "\n"
   ]
  },
  {
   "cell_type": "code",
   "execution_count": 132,
   "metadata": {
    "scrolled": false
   },
   "outputs": [
    {
     "name": "stdout",
     "output_type": "stream",
     "text": [
      "Coefficients: \n",
      " [-7.01191757e-02  4.67872538e-01 -5.58352275e-01  3.32287961e-01\n",
      " -1.30051170e-01  7.98204665e-02 -6.07384313e-02  5.23927336e-02\n",
      "  6.68784076e-02 -2.50670097e-01 -1.58361710e-01 -7.07856910e-02\n",
      "  2.26659250e-01 -1.44353373e-01 -1.22581104e-01 -1.09933952e-01\n",
      " -9.25413903e-02 -2.10608551e-01  2.24335383e-01  3.87492081e-01\n",
      "  2.55064800e-01 -6.91847817e-02 -4.53995683e-02  1.06303610e-01\n",
      "  2.96303479e-02  1.36357545e-02  1.75331814e-01 -2.13463708e-01\n",
      "  1.69870290e-02 -3.63144060e-01 -4.02243843e+02 -3.99172352e+03\n",
      "  7.61604053e+03 -3.05508665e+02  5.76896945e+03]\n",
      "Mean squared error: 13854196885.63\n",
      "R2: 0.0838\n"
     ]
    }
   ],
   "source": [
    "#10 bin regression with object deterction for total income\n",
    "x = cmodel.dropna()[r_cols+g_cols+b_cols + ['train', 'truck', 'car', 'person',  'potted plant']]\n",
    "y = cmodel.dropna()['total_income_2_b']\n",
    "linear_regression = LinearRegression()\n",
    "linear_regression.fit(x, y)\n",
    "\n",
    "pred = linear_regression.predict(x)\n",
    "\n",
    "\n",
    "print('Coefficients: \\n', linear_regression.coef_)\n",
    "\n",
    "# The mean squared error\n",
    "print('Mean squared error: %.2f'\n",
    "      % mean_squared_error(y, pred))\n",
    "\n",
    "print('R2: %.4f'\n",
    "      % r2_score(y, pred))\n",
    "\n",
    "\n"
   ]
  },
  {
   "cell_type": "code",
   "execution_count": 133,
   "metadata": {},
   "outputs": [],
   "source": [
    "cmodel['poor_bool'] = cmodel['Poor_MPI'] == 'Poor'\n",
    "cmodel['poor_bool']\n",
    "\n",
    "cmodel['Severely_poor_bool'] = cmodel['Severely_Poor_MPI'] == 'Poor'\n",
    "\n",
    "\n"
   ]
  },
  {
   "cell_type": "code",
   "execution_count": 134,
   "metadata": {},
   "outputs": [],
   "source": [
    "from sklearn.model_selection import train_test_split\n",
    "from sklearn.linear_model import SGDClassifier\n",
    "from sklearn.preprocessing import StandardScaler\n",
    "from sklearn.pipeline import make_pipeline\n",
    "from sklearn.linear_model import LogisticRegression"
   ]
  },
  {
   "cell_type": "code",
   "execution_count": 142,
   "metadata": {},
   "outputs": [],
   "source": [
    "def logreg(col):\n",
    "    print('Predicting for ', col)\n",
    "    dep = r_cols+g_cols+b_cols + ['train', 'truck', 'car', 'person',  'potted plant']\n",
    "    print('Regressors: ', dep)\n",
    "    X_train, X_test, y_train, y_test = train_test_split(cmodel[dep],cmodel[col],train_size=0.8)\n",
    "    model= LogisticRegression()\n",
    "    model.fit(X_train, y_train)\n",
    "    y_predicted = model.predict(X_test)\n",
    "    print(\"Model Score: \", model.score(X_test,y_test))\n",
    "    print('Mean Predicted: ', np.mean(y_predicted))\n",
    "    print('Mean of all observations: ', np.mean(cmodel[col]))\n",
    "    print(\"Number of categories: \", len(set(cmodel[col])))\n",
    "    print('SDG CLASSIFIER \\n')\n",
    "    clf = SGDClassifier(loss=\"hinge\", penalty=\"l2\")\n",
    "    clf.fit(X_train, y_train)\n",
    "    y_predicted = clf.predict(X_test)\n",
    "    print('SGDC Score: ', clf.score(X_test,y_test))\n",
    "    print('Mean Predicted: ', np.mean(y_predicted))\n",
    "    print('Mean of all observations: ', np.mean(cmodel[col]))"
   ]
  },
  {
   "cell_type": "code",
   "execution_count": 143,
   "metadata": {
    "scrolled": false
   },
   "outputs": [
    {
     "name": "stdout",
     "output_type": "stream",
     "text": [
      "Predicting for  poor_bool\n",
      "Regressors:  ['r0', 'r1', 'r2', 'r3', 'r4', 'r5', 'r6', 'r7', 'r8', 'r9', 'g0', 'g1', 'g2', 'g3', 'g4', 'g5', 'g6', 'g7', 'g8', 'g9', 'b0', 'b1', 'b2', 'b3', 'b4', 'b5', 'b6', 'b7', 'b8', 'b9', 'train', 'truck', 'car', 'person', 'potted plant']\n",
      "Model Score:  0.5458333333333333\n",
      "Mean Predicted:  0.7791666666666667\n",
      "Mean of all observations:  0.565\n",
      "Number of categories:  2\n",
      "SDG CLASSIFIER \n",
      "\n",
      "SGDC Score:  0.5666666666666667\n",
      "Mean Predicted:  0.9083333333333333\n",
      "Mean of all observations:  0.565\n"
     ]
    },
    {
     "name": "stderr",
     "output_type": "stream",
     "text": [
      "/Users/yojeremijenko-conel/opt/anaconda3/lib/python3.7/site-packages/sklearn/linear_model/_logistic.py:940: ConvergenceWarning: lbfgs failed to converge (status=1):\n",
      "STOP: TOTAL NO. of ITERATIONS REACHED LIMIT.\n",
      "\n",
      "Increase the number of iterations (max_iter) or scale the data as shown in:\n",
      "    https://scikit-learn.org/stable/modules/preprocessing.html\n",
      "Please also refer to the documentation for alternative solver options:\n",
      "    https://scikit-learn.org/stable/modules/linear_model.html#logistic-regression\n",
      "  extra_warning_msg=_LOGISTIC_SOLVER_CONVERGENCE_MSG)\n"
     ]
    }
   ],
   "source": [
    "logreg('poor_bool')"
   ]
  },
  {
   "cell_type": "code",
   "execution_count": 146,
   "metadata": {
    "scrolled": true
   },
   "outputs": [
    {
     "name": "stdout",
     "output_type": "stream",
     "text": [
      "Predicting for  Severely_poor_bool\n",
      "Regressors:  ['r0', 'r1', 'r2', 'r3', 'r4', 'r5', 'r6', 'r7', 'r8', 'r9', 'g0', 'g1', 'g2', 'g3', 'g4', 'g5', 'g6', 'g7', 'g8', 'g9', 'b0', 'b1', 'b2', 'b3', 'b4', 'b5', 'b6', 'b7', 'b8', 'b9', 'train', 'truck', 'car', 'person', 'potted plant']\n",
      "Model Score:  0.8875\n",
      "Mean Predicted:  0.0\n",
      "Mean of all observations:  0.10166666666666667\n",
      "Number of categories:  2\n",
      "SDG CLASSIFIER \n",
      "\n",
      "SGDC Score:  0.875\n",
      "Mean Predicted:  0.020833333333333332\n",
      "Mean of all observations:  0.10166666666666667\n"
     ]
    }
   ],
   "source": [
    "logreg('Severely_poor_bool')"
   ]
  },
  {
   "cell_type": "code",
   "execution_count": 147,
   "metadata": {},
   "outputs": [],
   "source": [
    "#Adding in color mean values to the regression"
   ]
  },
  {
   "cell_type": "code",
   "execution_count": 150,
   "metadata": {},
   "outputs": [],
   "source": [
    "color_mean = pd.read_csv('rgb_mean.csv')\n",
    "cmodel[['r_mean', 'g_mean', 'b_mean']] = color_mean[['r_mean', 'g_mean', 'b_mean']]"
   ]
  },
  {
   "cell_type": "code",
   "execution_count": 151,
   "metadata": {
    "scrolled": false
   },
   "outputs": [
    {
     "name": "stdout",
     "output_type": "stream",
     "text": [
      "Coefficients: \n",
      " [ 1.62764634e-06  5.54727393e-06  5.02773593e-06 -4.23402685e-06\n",
      " -4.13639982e-06  1.07519778e-06 -4.89550549e-07  2.24369382e-06\n",
      " -2.55927526e-06 -2.56693799e-06 -4.90260685e-06  1.51354965e-06\n",
      " -5.90526448e-06  1.80922873e-06 -5.78243360e-07 -1.49411551e-06\n",
      " -4.84884251e-07 -3.32605560e-06  4.19227115e-06  1.07114805e-05\n",
      "  3.46550746e-06  2.31578012e-06 -1.99661428e-07 -3.52351435e-07\n",
      "  9.94821306e-07  3.72128079e-07  3.56279574e-06 -1.70193404e-06\n",
      "  2.43346900e-06 -8.84340078e-06  8.96958393e-01  3.64874423e-02\n",
      "  2.58768776e-01  1.99841181e-01 -4.97926393e-02  1.17146519e-02\n",
      " -1.19158437e-02 -3.32329460e-03]\n",
      "Mean squared error: 4.08\n",
      "R2: 0.1690\n"
     ]
    }
   ],
   "source": [
    "#10 bin regression with object deterction and color means for Wealth Index\n",
    "x = cmodel[r_cols+g_cols+b_cols + ['train', 'truck', 'car',  'potted plant', 'person', 'r_mean', 'g_mean', 'b_mean']]\n",
    "y = cmodel['Wealth_Index']\n",
    "linear_regression = LinearRegression()\n",
    "linear_regression.fit(x, y)\n",
    "\n",
    "pred = linear_regression.predict(x)\n",
    "\n",
    "\n",
    "print('Coefficients: \\n', linear_regression.coef_)\n",
    "\n",
    "# The mean squared error\n",
    "print('Mean squared error: %.2f'\n",
    "      % mean_squared_error(y, pred))\n",
    "\n",
    "print('R2: %.4f'\n",
    "      % r2_score(y, pred))\n"
   ]
  },
  {
   "cell_type": "code",
   "execution_count": 152,
   "metadata": {
    "scrolled": true
   },
   "outputs": [
    {
     "name": "stdout",
     "output_type": "stream",
     "text": [
      "Coefficients: \n",
      " [ 5.95528975e-02  5.82099155e-01 -4.75173756e-01  3.54164835e-01\n",
      " -1.04210210e-01  8.11090316e-02 -9.95089145e-02 -2.77645369e-02\n",
      " -4.14771946e-02 -4.00486682e-01 -3.76108735e-01 -2.34746048e-01\n",
      "  1.33414242e-01 -2.09348894e-01 -1.63817235e-01 -1.02111750e-01\n",
      " -1.87931289e-02 -7.88714075e-02  3.88668589e-01  5.90018972e-01\n",
      "  3.40171782e-01 -2.49994589e-02 -4.89718670e-03  1.40890685e-01\n",
      "  4.25905644e-02 -2.11831448e-03  1.36033774e-01 -2.53901575e-01\n",
      " -4.04377583e-02 -4.28926401e-01 -2.02148160e+03 -3.61570616e+03\n",
      "  7.54529510e+03 -2.77801000e+02  6.03632686e+03  1.44979315e+03\n",
      " -2.39895191e+03  1.13898199e+03]\n",
      "Mean squared error: 13823383286.99\n",
      "R2: 0.0858\n"
     ]
    }
   ],
   "source": [
    "#10 bin regression with object deterction for total income\n",
    "x = cmodel.dropna()[r_cols+g_cols+b_cols + ['train', 'truck', 'car', 'person',  'potted plant', 'r_mean', 'g_mean', 'b_mean']]\n",
    "y = cmodel.dropna()['total_income_2_b']\n",
    "linear_regression = LinearRegression()\n",
    "linear_regression.fit(x, y)\n",
    "\n",
    "pred = linear_regression.predict(x)\n",
    "\n",
    "\n",
    "print('Coefficients: \\n', linear_regression.coef_)\n",
    "\n",
    "# The mean squared error\n",
    "print('Mean squared error: %.2f'\n",
    "      % mean_squared_error(y, pred))\n",
    "\n",
    "print('R2: %.4f'\n",
    "      % r2_score(y, pred))"
   ]
  },
  {
   "cell_type": "code",
   "execution_count": 154,
   "metadata": {
    "scrolled": true
   },
   "outputs": [
    {
     "name": "stdout",
     "output_type": "stream",
     "text": [
      "Coefficients: \n",
      " [ 1.91073719e-07  7.24694100e-08 -2.36063424e-07  2.34094971e-07\n",
      " -9.75314664e-09  3.72772294e-09 -7.84547057e-08 -7.77945355e-08\n",
      " -1.80468736e-07  1.29937321e-07  6.90038764e-08 -3.78357058e-08\n",
      "  2.43506323e-07 -2.82058720e-09 -1.07256984e-07  7.52699868e-08\n",
      "  6.09578148e-08  2.67079037e-07 -1.97526670e-07 -3.21608627e-07\n",
      " -2.31076306e-07 -2.69011641e-07  1.43280544e-07  1.97728686e-08\n",
      " -3.07982431e-08 -4.70465263e-08 -1.18308679e-07 -3.49944773e-08\n",
      "  4.06116809e-07  2.27089749e-07 -5.59477537e-02  4.26708097e-03\n",
      " -5.68258012e-03  1.09581901e-03 -7.60222219e-04  1.61652520e-04\n",
      "  1.91217903e-05 -4.63113787e-04]\n",
      "Mean squared error: 0.02\n",
      "R2: 0.0501\n"
     ]
    }
   ],
   "source": [
    "#10 bin regression with object deterction for total income\n",
    "x = cmodel[r_cols+g_cols+b_cols + ['train', 'truck', 'car', 'person',  'potted plant', 'r_mean', 'g_mean', 'b_mean']]\n",
    "y = cmodel['total_deprivations']\n",
    "linear_regression = LinearRegression()\n",
    "linear_regression.fit(x, y)\n",
    "\n",
    "pred = linear_regression.predict(x)\n",
    "\n",
    "\n",
    "print('Coefficients: \\n', linear_regression.coef_)\n",
    "\n",
    "# The mean squared error\n",
    "print('Mean squared error: %.2f'\n",
    "      % mean_squared_error(y, pred))\n",
    "\n",
    "print('R2: %.4f'\n",
    "      % r2_score(y, pred))"
   ]
  },
  {
   "cell_type": "code",
   "execution_count": null,
   "metadata": {},
   "outputs": [],
   "source": [
    "from sklearn import datasets, linear_model\n",
    "from sklearn.linear_model import LinearRegression\n",
    "import statsmodels.api as sm\n",
    "from scipy import stats"
   ]
  },
  {
   "cell_type": "code",
   "execution_count": 159,
   "metadata": {},
   "outputs": [
    {
     "data": {
      "text/html": [
       "<table class=\"simpletable\">\n",
       "<caption>OLS Regression Results</caption>\n",
       "<tr>\n",
       "  <th>Dep. Variable:</th>      <td>Wealth_Index</td>   <th>  R-squared (uncentered):</th>      <td>   0.169</td>\n",
       "</tr>\n",
       "<tr>\n",
       "  <th>Model:</th>                   <td>OLS</td>       <th>  Adj. R-squared (uncentered):</th> <td>   0.143</td>\n",
       "</tr>\n",
       "<tr>\n",
       "  <th>Method:</th>             <td>Least Squares</td>  <th>  F-statistic:       </th>          <td>   6.573</td>\n",
       "</tr>\n",
       "<tr>\n",
       "  <th>Date:</th>             <td>Thu, 28 May 2020</td> <th>  Prob (F-statistic):</th>          <td>5.33e-28</td>\n",
       "</tr>\n",
       "<tr>\n",
       "  <th>Time:</th>                 <td>23:58:20</td>     <th>  Log-Likelihood:    </th>          <td> -2546.5</td>\n",
       "</tr>\n",
       "<tr>\n",
       "  <th>No. Observations:</th>      <td>  1200</td>      <th>  AIC:               </th>          <td>   5165.</td>\n",
       "</tr>\n",
       "<tr>\n",
       "  <th>Df Residuals:</th>          <td>  1164</td>      <th>  BIC:               </th>          <td>   5348.</td>\n",
       "</tr>\n",
       "<tr>\n",
       "  <th>Df Model:</th>              <td>    36</td>      <th>                     </th>              <td> </td>   \n",
       "</tr>\n",
       "<tr>\n",
       "  <th>Covariance Type:</th>      <td>nonrobust</td>    <th>                     </th>              <td> </td>   \n",
       "</tr>\n",
       "</table>\n",
       "<table class=\"simpletable\">\n",
       "<tr>\n",
       "        <td></td>          <th>coef</th>     <th>std err</th>      <th>t</th>      <th>P>|t|</th>  <th>[0.025</th>    <th>0.975]</th>  \n",
       "</tr>\n",
       "<tr>\n",
       "  <th>r0</th>           <td> 1.625e-06</td> <td> 3.08e-06</td> <td>    0.528</td> <td> 0.597</td> <td>-4.41e-06</td> <td> 7.66e-06</td>\n",
       "</tr>\n",
       "<tr>\n",
       "  <th>r1</th>           <td> 5.552e-06</td> <td> 2.85e-06</td> <td>    1.945</td> <td> 0.052</td> <td>-4.91e-08</td> <td> 1.12e-05</td>\n",
       "</tr>\n",
       "<tr>\n",
       "  <th>r2</th>           <td> 5.017e-06</td> <td> 4.28e-06</td> <td>    1.172</td> <td> 0.242</td> <td>-3.38e-06</td> <td> 1.34e-05</td>\n",
       "</tr>\n",
       "<tr>\n",
       "  <th>r3</th>           <td>-4.242e-06</td> <td> 3.03e-06</td> <td>   -1.400</td> <td> 0.162</td> <td>-1.02e-05</td> <td>  1.7e-06</td>\n",
       "</tr>\n",
       "<tr>\n",
       "  <th>r4</th>           <td>-4.133e-06</td> <td> 2.45e-06</td> <td>   -1.684</td> <td> 0.092</td> <td>-8.95e-06</td> <td> 6.83e-07</td>\n",
       "</tr>\n",
       "<tr>\n",
       "  <th>r5</th>           <td> 1.074e-06</td> <td>  1.4e-06</td> <td>    0.769</td> <td> 0.442</td> <td>-1.67e-06</td> <td> 3.81e-06</td>\n",
       "</tr>\n",
       "<tr>\n",
       "  <th>r6</th>           <td>-4.868e-07</td> <td> 1.27e-06</td> <td>   -0.384</td> <td> 0.701</td> <td>-2.97e-06</td> <td>    2e-06</td>\n",
       "</tr>\n",
       "<tr>\n",
       "  <th>r7</th>           <td> 2.247e-06</td> <td> 1.47e-06</td> <td>    1.524</td> <td> 0.128</td> <td>-6.47e-07</td> <td> 5.14e-06</td>\n",
       "</tr>\n",
       "<tr>\n",
       "  <th>r8</th>           <td>-2.553e-06</td> <td> 2.03e-06</td> <td>   -1.259</td> <td> 0.208</td> <td>-6.53e-06</td> <td> 1.43e-06</td>\n",
       "</tr>\n",
       "<tr>\n",
       "  <th>r9</th>           <td>-2.561e-06</td> <td> 2.91e-06</td> <td>   -0.881</td> <td> 0.379</td> <td>-8.27e-06</td> <td> 3.15e-06</td>\n",
       "</tr>\n",
       "<tr>\n",
       "  <th>g0</th>           <td>-4.937e-06</td> <td> 4.13e-06</td> <td>   -1.196</td> <td> 0.232</td> <td> -1.3e-05</td> <td> 3.16e-06</td>\n",
       "</tr>\n",
       "<tr>\n",
       "  <th>g1</th>           <td> 1.512e-06</td> <td> 3.24e-06</td> <td>    0.467</td> <td> 0.641</td> <td>-4.84e-06</td> <td> 7.87e-06</td>\n",
       "</tr>\n",
       "<tr>\n",
       "  <th>g2</th>           <td>-5.905e-06</td> <td> 3.64e-06</td> <td>   -1.623</td> <td> 0.105</td> <td> -1.3e-05</td> <td> 1.23e-06</td>\n",
       "</tr>\n",
       "<tr>\n",
       "  <th>g3</th>           <td> 1.803e-06</td> <td> 2.89e-06</td> <td>    0.625</td> <td> 0.532</td> <td>-3.86e-06</td> <td> 7.46e-06</td>\n",
       "</tr>\n",
       "<tr>\n",
       "  <th>g4</th>           <td>-5.812e-07</td> <td> 2.18e-06</td> <td>   -0.267</td> <td> 0.790</td> <td>-4.85e-06</td> <td> 3.69e-06</td>\n",
       "</tr>\n",
       "<tr>\n",
       "  <th>g5</th>           <td>-1.492e-06</td> <td> 1.37e-06</td> <td>   -1.091</td> <td> 0.275</td> <td>-4.17e-06</td> <td> 1.19e-06</td>\n",
       "</tr>\n",
       "<tr>\n",
       "  <th>g6</th>           <td>-4.785e-07</td> <td> 1.57e-06</td> <td>   -0.304</td> <td> 0.761</td> <td>-3.57e-06</td> <td> 2.61e-06</td>\n",
       "</tr>\n",
       "<tr>\n",
       "  <th>g7</th>           <td>-3.316e-06</td> <td> 2.25e-06</td> <td>   -1.472</td> <td> 0.141</td> <td>-7.74e-06</td> <td> 1.11e-06</td>\n",
       "</tr>\n",
       "<tr>\n",
       "  <th>g8</th>           <td> 4.207e-06</td> <td> 3.31e-06</td> <td>    1.270</td> <td> 0.204</td> <td>-2.29e-06</td> <td> 1.07e-05</td>\n",
       "</tr>\n",
       "<tr>\n",
       "  <th>g9</th>           <td> 1.073e-05</td> <td> 4.08e-06</td> <td>    2.630</td> <td> 0.009</td> <td> 2.73e-06</td> <td> 1.87e-05</td>\n",
       "</tr>\n",
       "<tr>\n",
       "  <th>b0</th>           <td> 3.452e-06</td> <td> 2.17e-06</td> <td>    1.593</td> <td> 0.112</td> <td>   -8e-07</td> <td>  7.7e-06</td>\n",
       "</tr>\n",
       "<tr>\n",
       "  <th>b1</th>           <td> 2.299e-06</td> <td> 1.99e-06</td> <td>    1.156</td> <td> 0.248</td> <td> -1.6e-06</td> <td>  6.2e-06</td>\n",
       "</tr>\n",
       "<tr>\n",
       "  <th>b2</th>           <td>-2.034e-07</td> <td> 2.05e-06</td> <td>   -0.099</td> <td> 0.921</td> <td>-4.22e-06</td> <td> 3.81e-06</td>\n",
       "</tr>\n",
       "<tr>\n",
       "  <th>b3</th>           <td> -3.55e-07</td> <td> 1.55e-06</td> <td>   -0.229</td> <td> 0.819</td> <td>-3.39e-06</td> <td> 2.68e-06</td>\n",
       "</tr>\n",
       "<tr>\n",
       "  <th>b4</th>           <td> 9.939e-07</td> <td> 1.05e-06</td> <td>    0.947</td> <td> 0.344</td> <td>-1.07e-06</td> <td> 3.05e-06</td>\n",
       "</tr>\n",
       "<tr>\n",
       "  <th>b5</th>           <td>  3.76e-07</td> <td> 9.68e-07</td> <td>    0.388</td> <td> 0.698</td> <td>-1.52e-06</td> <td> 2.28e-06</td>\n",
       "</tr>\n",
       "<tr>\n",
       "  <th>b6</th>           <td> 3.567e-06</td> <td> 1.44e-06</td> <td>    2.472</td> <td> 0.014</td> <td> 7.36e-07</td> <td>  6.4e-06</td>\n",
       "</tr>\n",
       "<tr>\n",
       "  <th>b7</th>           <td>-1.695e-06</td> <td> 1.86e-06</td> <td>   -0.911</td> <td> 0.363</td> <td>-5.35e-06</td> <td> 1.96e-06</td>\n",
       "</tr>\n",
       "<tr>\n",
       "  <th>b8</th>           <td> 2.444e-06</td> <td> 2.43e-06</td> <td>    1.005</td> <td> 0.315</td> <td>-2.33e-06</td> <td> 7.22e-06</td>\n",
       "</tr>\n",
       "<tr>\n",
       "  <th>b9</th>           <td>-8.825e-06</td> <td> 2.35e-06</td> <td>   -3.759</td> <td> 0.000</td> <td>-1.34e-05</td> <td>-4.22e-06</td>\n",
       "</tr>\n",
       "<tr>\n",
       "  <th>train</th>        <td>    0.8970</td> <td>    0.460</td> <td>    1.948</td> <td> 0.052</td> <td>   -0.006</td> <td>    1.800</td>\n",
       "</tr>\n",
       "<tr>\n",
       "  <th>truck</th>        <td>    0.0365</td> <td>    0.080</td> <td>    0.455</td> <td> 0.649</td> <td>   -0.121</td> <td>    0.194</td>\n",
       "</tr>\n",
       "<tr>\n",
       "  <th>car</th>          <td>    0.2587</td> <td>    0.033</td> <td>    7.881</td> <td> 0.000</td> <td>    0.194</td> <td>    0.323</td>\n",
       "</tr>\n",
       "<tr>\n",
       "  <th>person</th>       <td>   -0.0498</td> <td>    0.014</td> <td>   -3.576</td> <td> 0.000</td> <td>   -0.077</td> <td>   -0.022</td>\n",
       "</tr>\n",
       "<tr>\n",
       "  <th>potted plant</th> <td>    0.1998</td> <td>    0.090</td> <td>    2.225</td> <td> 0.026</td> <td>    0.024</td> <td>    0.376</td>\n",
       "</tr>\n",
       "<tr>\n",
       "  <th>r_mean</th>       <td>    0.0117</td> <td>    0.016</td> <td>    0.720</td> <td> 0.472</td> <td>   -0.020</td> <td>    0.043</td>\n",
       "</tr>\n",
       "<tr>\n",
       "  <th>g_mean</th>       <td>   -0.0121</td> <td>    0.026</td> <td>   -0.458</td> <td> 0.647</td> <td>   -0.064</td> <td>    0.040</td>\n",
       "</tr>\n",
       "<tr>\n",
       "  <th>b_mean</th>       <td>   -0.0035</td> <td>    0.017</td> <td>   -0.202</td> <td> 0.840</td> <td>   -0.037</td> <td>    0.030</td>\n",
       "</tr>\n",
       "</table>\n",
       "<table class=\"simpletable\">\n",
       "<tr>\n",
       "  <th>Omnibus:</th>       <td>43.509</td> <th>  Durbin-Watson:     </th> <td>   2.058</td>\n",
       "</tr>\n",
       "<tr>\n",
       "  <th>Prob(Omnibus):</th> <td> 0.000</td> <th>  Jarque-Bera (JB):  </th> <td>  48.917</td>\n",
       "</tr>\n",
       "<tr>\n",
       "  <th>Skew:</th>          <td> 0.439</td> <th>  Prob(JB):          </th> <td>2.39e-11</td>\n",
       "</tr>\n",
       "<tr>\n",
       "  <th>Kurtosis:</th>      <td> 3.455</td> <th>  Cond. No.          </th> <td>2.09e+16</td>\n",
       "</tr>\n",
       "</table><br/><br/>Warnings:<br/>[1] Standard Errors assume that the covariance matrix of the errors is correctly specified.<br/>[2] The smallest eigenvalue is 2.23e-18. This might indicate that there are<br/>strong multicollinearity problems or that the design matrix is singular."
      ],
      "text/plain": [
       "<class 'statsmodels.iolib.summary.Summary'>\n",
       "\"\"\"\n",
       "                                 OLS Regression Results                                \n",
       "=======================================================================================\n",
       "Dep. Variable:           Wealth_Index   R-squared (uncentered):                   0.169\n",
       "Model:                            OLS   Adj. R-squared (uncentered):              0.143\n",
       "Method:                 Least Squares   F-statistic:                              6.573\n",
       "Date:                Thu, 28 May 2020   Prob (F-statistic):                    5.33e-28\n",
       "Time:                        23:58:20   Log-Likelihood:                         -2546.5\n",
       "No. Observations:                1200   AIC:                                      5165.\n",
       "Df Residuals:                    1164   BIC:                                      5348.\n",
       "Df Model:                          36                                                  \n",
       "Covariance Type:            nonrobust                                                  \n",
       "================================================================================\n",
       "                   coef    std err          t      P>|t|      [0.025      0.975]\n",
       "--------------------------------------------------------------------------------\n",
       "r0            1.625e-06   3.08e-06      0.528      0.597   -4.41e-06    7.66e-06\n",
       "r1            5.552e-06   2.85e-06      1.945      0.052   -4.91e-08    1.12e-05\n",
       "r2            5.017e-06   4.28e-06      1.172      0.242   -3.38e-06    1.34e-05\n",
       "r3           -4.242e-06   3.03e-06     -1.400      0.162   -1.02e-05     1.7e-06\n",
       "r4           -4.133e-06   2.45e-06     -1.684      0.092   -8.95e-06    6.83e-07\n",
       "r5            1.074e-06    1.4e-06      0.769      0.442   -1.67e-06    3.81e-06\n",
       "r6           -4.868e-07   1.27e-06     -0.384      0.701   -2.97e-06       2e-06\n",
       "r7            2.247e-06   1.47e-06      1.524      0.128   -6.47e-07    5.14e-06\n",
       "r8           -2.553e-06   2.03e-06     -1.259      0.208   -6.53e-06    1.43e-06\n",
       "r9           -2.561e-06   2.91e-06     -0.881      0.379   -8.27e-06    3.15e-06\n",
       "g0           -4.937e-06   4.13e-06     -1.196      0.232    -1.3e-05    3.16e-06\n",
       "g1            1.512e-06   3.24e-06      0.467      0.641   -4.84e-06    7.87e-06\n",
       "g2           -5.905e-06   3.64e-06     -1.623      0.105    -1.3e-05    1.23e-06\n",
       "g3            1.803e-06   2.89e-06      0.625      0.532   -3.86e-06    7.46e-06\n",
       "g4           -5.812e-07   2.18e-06     -0.267      0.790   -4.85e-06    3.69e-06\n",
       "g5           -1.492e-06   1.37e-06     -1.091      0.275   -4.17e-06    1.19e-06\n",
       "g6           -4.785e-07   1.57e-06     -0.304      0.761   -3.57e-06    2.61e-06\n",
       "g7           -3.316e-06   2.25e-06     -1.472      0.141   -7.74e-06    1.11e-06\n",
       "g8            4.207e-06   3.31e-06      1.270      0.204   -2.29e-06    1.07e-05\n",
       "g9            1.073e-05   4.08e-06      2.630      0.009    2.73e-06    1.87e-05\n",
       "b0            3.452e-06   2.17e-06      1.593      0.112      -8e-07     7.7e-06\n",
       "b1            2.299e-06   1.99e-06      1.156      0.248    -1.6e-06     6.2e-06\n",
       "b2           -2.034e-07   2.05e-06     -0.099      0.921   -4.22e-06    3.81e-06\n",
       "b3            -3.55e-07   1.55e-06     -0.229      0.819   -3.39e-06    2.68e-06\n",
       "b4            9.939e-07   1.05e-06      0.947      0.344   -1.07e-06    3.05e-06\n",
       "b5             3.76e-07   9.68e-07      0.388      0.698   -1.52e-06    2.28e-06\n",
       "b6            3.567e-06   1.44e-06      2.472      0.014    7.36e-07     6.4e-06\n",
       "b7           -1.695e-06   1.86e-06     -0.911      0.363   -5.35e-06    1.96e-06\n",
       "b8            2.444e-06   2.43e-06      1.005      0.315   -2.33e-06    7.22e-06\n",
       "b9           -8.825e-06   2.35e-06     -3.759      0.000   -1.34e-05   -4.22e-06\n",
       "train            0.8970      0.460      1.948      0.052      -0.006       1.800\n",
       "truck            0.0365      0.080      0.455      0.649      -0.121       0.194\n",
       "car              0.2587      0.033      7.881      0.000       0.194       0.323\n",
       "person          -0.0498      0.014     -3.576      0.000      -0.077      -0.022\n",
       "potted plant     0.1998      0.090      2.225      0.026       0.024       0.376\n",
       "r_mean           0.0117      0.016      0.720      0.472      -0.020       0.043\n",
       "g_mean          -0.0121      0.026     -0.458      0.647      -0.064       0.040\n",
       "b_mean          -0.0035      0.017     -0.202      0.840      -0.037       0.030\n",
       "==============================================================================\n",
       "Omnibus:                       43.509   Durbin-Watson:                   2.058\n",
       "Prob(Omnibus):                  0.000   Jarque-Bera (JB):               48.917\n",
       "Skew:                           0.439   Prob(JB):                     2.39e-11\n",
       "Kurtosis:                       3.455   Cond. No.                     2.09e+16\n",
       "==============================================================================\n",
       "\n",
       "Warnings:\n",
       "[1] Standard Errors assume that the covariance matrix of the errors is correctly specified.\n",
       "[2] The smallest eigenvalue is 2.23e-18. This might indicate that there are\n",
       "strong multicollinearity problems or that the design matrix is singular.\n",
       "\"\"\""
      ]
     },
     "execution_count": 159,
     "metadata": {},
     "output_type": "execute_result"
    }
   ],
   "source": [
    "X = cmodel[r_cols+g_cols+b_cols + ['train', 'truck', 'car', 'person',  'potted plant', 'r_mean', 'g_mean', 'b_mean']]\n",
    "y = cmodel['Wealth_Index']\n",
    "est = sm.OLS(y, X)\n",
    "est2 = est.fit()\n",
    "est2.summary()"
   ]
  },
  {
   "cell_type": "code",
   "execution_count": 158,
   "metadata": {},
   "outputs": [
    {
     "data": {
      "text/html": [
       "<table class=\"simpletable\">\n",
       "<caption>OLS Regression Results</caption>\n",
       "<tr>\n",
       "  <th>Dep. Variable:</th>      <td>Wealth_Index</td>   <th>  R-squared (uncentered):</th>      <td>   0.169</td>\n",
       "</tr>\n",
       "<tr>\n",
       "  <th>Model:</th>                   <td>OLS</td>       <th>  Adj. R-squared (uncentered):</th> <td>   0.143</td>\n",
       "</tr>\n",
       "<tr>\n",
       "  <th>Method:</th>             <td>Least Squares</td>  <th>  F-statistic:       </th>          <td>   6.573</td>\n",
       "</tr>\n",
       "<tr>\n",
       "  <th>Date:</th>             <td>Thu, 28 May 2020</td> <th>  Prob (F-statistic):</th>          <td>5.33e-28</td>\n",
       "</tr>\n",
       "<tr>\n",
       "  <th>Time:</th>                 <td>23:58:09</td>     <th>  Log-Likelihood:    </th>          <td> -2546.5</td>\n",
       "</tr>\n",
       "<tr>\n",
       "  <th>No. Observations:</th>      <td>  1200</td>      <th>  AIC:               </th>          <td>   5165.</td>\n",
       "</tr>\n",
       "<tr>\n",
       "  <th>Df Residuals:</th>          <td>  1164</td>      <th>  BIC:               </th>          <td>   5348.</td>\n",
       "</tr>\n",
       "<tr>\n",
       "  <th>Df Model:</th>              <td>    36</td>      <th>                     </th>              <td> </td>   \n",
       "</tr>\n",
       "<tr>\n",
       "  <th>Covariance Type:</th>      <td>nonrobust</td>    <th>                     </th>              <td> </td>   \n",
       "</tr>\n",
       "</table>\n",
       "<table class=\"simpletable\">\n",
       "<tr>\n",
       "        <td></td>          <th>coef</th>     <th>std err</th>      <th>t</th>      <th>P>|t|</th>  <th>[0.025</th>    <th>0.975]</th>  \n",
       "</tr>\n",
       "<tr>\n",
       "  <th>r0</th>           <td> 1.625e-06</td> <td> 3.08e-06</td> <td>    0.528</td> <td> 0.597</td> <td>-4.41e-06</td> <td> 7.66e-06</td>\n",
       "</tr>\n",
       "<tr>\n",
       "  <th>r1</th>           <td> 5.552e-06</td> <td> 2.85e-06</td> <td>    1.945</td> <td> 0.052</td> <td>-4.91e-08</td> <td> 1.12e-05</td>\n",
       "</tr>\n",
       "<tr>\n",
       "  <th>r2</th>           <td> 5.017e-06</td> <td> 4.28e-06</td> <td>    1.172</td> <td> 0.242</td> <td>-3.38e-06</td> <td> 1.34e-05</td>\n",
       "</tr>\n",
       "<tr>\n",
       "  <th>r3</th>           <td>-4.242e-06</td> <td> 3.03e-06</td> <td>   -1.400</td> <td> 0.162</td> <td>-1.02e-05</td> <td>  1.7e-06</td>\n",
       "</tr>\n",
       "<tr>\n",
       "  <th>r4</th>           <td>-4.133e-06</td> <td> 2.45e-06</td> <td>   -1.684</td> <td> 0.092</td> <td>-8.95e-06</td> <td> 6.83e-07</td>\n",
       "</tr>\n",
       "<tr>\n",
       "  <th>r5</th>           <td> 1.074e-06</td> <td>  1.4e-06</td> <td>    0.769</td> <td> 0.442</td> <td>-1.67e-06</td> <td> 3.81e-06</td>\n",
       "</tr>\n",
       "<tr>\n",
       "  <th>r6</th>           <td>-4.868e-07</td> <td> 1.27e-06</td> <td>   -0.384</td> <td> 0.701</td> <td>-2.97e-06</td> <td>    2e-06</td>\n",
       "</tr>\n",
       "<tr>\n",
       "  <th>r7</th>           <td> 2.247e-06</td> <td> 1.47e-06</td> <td>    1.524</td> <td> 0.128</td> <td>-6.47e-07</td> <td> 5.14e-06</td>\n",
       "</tr>\n",
       "<tr>\n",
       "  <th>r8</th>           <td>-2.553e-06</td> <td> 2.03e-06</td> <td>   -1.259</td> <td> 0.208</td> <td>-6.53e-06</td> <td> 1.43e-06</td>\n",
       "</tr>\n",
       "<tr>\n",
       "  <th>r9</th>           <td>-2.561e-06</td> <td> 2.91e-06</td> <td>   -0.881</td> <td> 0.379</td> <td>-8.27e-06</td> <td> 3.15e-06</td>\n",
       "</tr>\n",
       "<tr>\n",
       "  <th>g0</th>           <td>-4.937e-06</td> <td> 4.13e-06</td> <td>   -1.196</td> <td> 0.232</td> <td> -1.3e-05</td> <td> 3.16e-06</td>\n",
       "</tr>\n",
       "<tr>\n",
       "  <th>g1</th>           <td> 1.512e-06</td> <td> 3.24e-06</td> <td>    0.467</td> <td> 0.641</td> <td>-4.84e-06</td> <td> 7.87e-06</td>\n",
       "</tr>\n",
       "<tr>\n",
       "  <th>g2</th>           <td>-5.905e-06</td> <td> 3.64e-06</td> <td>   -1.623</td> <td> 0.105</td> <td> -1.3e-05</td> <td> 1.23e-06</td>\n",
       "</tr>\n",
       "<tr>\n",
       "  <th>g3</th>           <td> 1.803e-06</td> <td> 2.89e-06</td> <td>    0.625</td> <td> 0.532</td> <td>-3.86e-06</td> <td> 7.46e-06</td>\n",
       "</tr>\n",
       "<tr>\n",
       "  <th>g4</th>           <td>-5.812e-07</td> <td> 2.18e-06</td> <td>   -0.267</td> <td> 0.790</td> <td>-4.85e-06</td> <td> 3.69e-06</td>\n",
       "</tr>\n",
       "<tr>\n",
       "  <th>g5</th>           <td>-1.492e-06</td> <td> 1.37e-06</td> <td>   -1.091</td> <td> 0.275</td> <td>-4.17e-06</td> <td> 1.19e-06</td>\n",
       "</tr>\n",
       "<tr>\n",
       "  <th>g6</th>           <td>-4.785e-07</td> <td> 1.57e-06</td> <td>   -0.304</td> <td> 0.761</td> <td>-3.57e-06</td> <td> 2.61e-06</td>\n",
       "</tr>\n",
       "<tr>\n",
       "  <th>g7</th>           <td>-3.316e-06</td> <td> 2.25e-06</td> <td>   -1.472</td> <td> 0.141</td> <td>-7.74e-06</td> <td> 1.11e-06</td>\n",
       "</tr>\n",
       "<tr>\n",
       "  <th>g8</th>           <td> 4.207e-06</td> <td> 3.31e-06</td> <td>    1.270</td> <td> 0.204</td> <td>-2.29e-06</td> <td> 1.07e-05</td>\n",
       "</tr>\n",
       "<tr>\n",
       "  <th>g9</th>           <td> 1.073e-05</td> <td> 4.08e-06</td> <td>    2.630</td> <td> 0.009</td> <td> 2.73e-06</td> <td> 1.87e-05</td>\n",
       "</tr>\n",
       "<tr>\n",
       "  <th>b0</th>           <td> 3.452e-06</td> <td> 2.17e-06</td> <td>    1.593</td> <td> 0.112</td> <td>   -8e-07</td> <td>  7.7e-06</td>\n",
       "</tr>\n",
       "<tr>\n",
       "  <th>b1</th>           <td> 2.299e-06</td> <td> 1.99e-06</td> <td>    1.156</td> <td> 0.248</td> <td> -1.6e-06</td> <td>  6.2e-06</td>\n",
       "</tr>\n",
       "<tr>\n",
       "  <th>b2</th>           <td>-2.034e-07</td> <td> 2.05e-06</td> <td>   -0.099</td> <td> 0.921</td> <td>-4.22e-06</td> <td> 3.81e-06</td>\n",
       "</tr>\n",
       "<tr>\n",
       "  <th>b3</th>           <td> -3.55e-07</td> <td> 1.55e-06</td> <td>   -0.229</td> <td> 0.819</td> <td>-3.39e-06</td> <td> 2.68e-06</td>\n",
       "</tr>\n",
       "<tr>\n",
       "  <th>b4</th>           <td> 9.939e-07</td> <td> 1.05e-06</td> <td>    0.947</td> <td> 0.344</td> <td>-1.07e-06</td> <td> 3.05e-06</td>\n",
       "</tr>\n",
       "<tr>\n",
       "  <th>b5</th>           <td>  3.76e-07</td> <td> 9.68e-07</td> <td>    0.388</td> <td> 0.698</td> <td>-1.52e-06</td> <td> 2.28e-06</td>\n",
       "</tr>\n",
       "<tr>\n",
       "  <th>b6</th>           <td> 3.567e-06</td> <td> 1.44e-06</td> <td>    2.472</td> <td> 0.014</td> <td> 7.36e-07</td> <td>  6.4e-06</td>\n",
       "</tr>\n",
       "<tr>\n",
       "  <th>b7</th>           <td>-1.695e-06</td> <td> 1.86e-06</td> <td>   -0.911</td> <td> 0.363</td> <td>-5.35e-06</td> <td> 1.96e-06</td>\n",
       "</tr>\n",
       "<tr>\n",
       "  <th>b8</th>           <td> 2.444e-06</td> <td> 2.43e-06</td> <td>    1.005</td> <td> 0.315</td> <td>-2.33e-06</td> <td> 7.22e-06</td>\n",
       "</tr>\n",
       "<tr>\n",
       "  <th>b9</th>           <td>-8.825e-06</td> <td> 2.35e-06</td> <td>   -3.759</td> <td> 0.000</td> <td>-1.34e-05</td> <td>-4.22e-06</td>\n",
       "</tr>\n",
       "<tr>\n",
       "  <th>train</th>        <td>    0.8970</td> <td>    0.460</td> <td>    1.948</td> <td> 0.052</td> <td>   -0.006</td> <td>    1.800</td>\n",
       "</tr>\n",
       "<tr>\n",
       "  <th>truck</th>        <td>    0.0365</td> <td>    0.080</td> <td>    0.455</td> <td> 0.649</td> <td>   -0.121</td> <td>    0.194</td>\n",
       "</tr>\n",
       "<tr>\n",
       "  <th>car</th>          <td>    0.2587</td> <td>    0.033</td> <td>    7.881</td> <td> 0.000</td> <td>    0.194</td> <td>    0.323</td>\n",
       "</tr>\n",
       "<tr>\n",
       "  <th>person</th>       <td>   -0.0498</td> <td>    0.014</td> <td>   -3.576</td> <td> 0.000</td> <td>   -0.077</td> <td>   -0.022</td>\n",
       "</tr>\n",
       "<tr>\n",
       "  <th>potted plant</th> <td>    0.1998</td> <td>    0.090</td> <td>    2.225</td> <td> 0.026</td> <td>    0.024</td> <td>    0.376</td>\n",
       "</tr>\n",
       "<tr>\n",
       "  <th>r_mean</th>       <td>    0.0117</td> <td>    0.016</td> <td>    0.720</td> <td> 0.472</td> <td>   -0.020</td> <td>    0.043</td>\n",
       "</tr>\n",
       "<tr>\n",
       "  <th>g_mean</th>       <td>   -0.0121</td> <td>    0.026</td> <td>   -0.458</td> <td> 0.647</td> <td>   -0.064</td> <td>    0.040</td>\n",
       "</tr>\n",
       "<tr>\n",
       "  <th>b_mean</th>       <td>   -0.0035</td> <td>    0.017</td> <td>   -0.202</td> <td> 0.840</td> <td>   -0.037</td> <td>    0.030</td>\n",
       "</tr>\n",
       "</table>\n",
       "<table class=\"simpletable\">\n",
       "<tr>\n",
       "  <th>Omnibus:</th>       <td>43.509</td> <th>  Durbin-Watson:     </th> <td>   2.058</td>\n",
       "</tr>\n",
       "<tr>\n",
       "  <th>Prob(Omnibus):</th> <td> 0.000</td> <th>  Jarque-Bera (JB):  </th> <td>  48.917</td>\n",
       "</tr>\n",
       "<tr>\n",
       "  <th>Skew:</th>          <td> 0.439</td> <th>  Prob(JB):          </th> <td>2.39e-11</td>\n",
       "</tr>\n",
       "<tr>\n",
       "  <th>Kurtosis:</th>      <td> 3.455</td> <th>  Cond. No.          </th> <td>2.09e+16</td>\n",
       "</tr>\n",
       "</table><br/><br/>Warnings:<br/>[1] Standard Errors assume that the covariance matrix of the errors is correctly specified.<br/>[2] The smallest eigenvalue is 2.23e-18. This might indicate that there are<br/>strong multicollinearity problems or that the design matrix is singular."
      ],
      "text/plain": [
       "<class 'statsmodels.iolib.summary.Summary'>\n",
       "\"\"\"\n",
       "                                 OLS Regression Results                                \n",
       "=======================================================================================\n",
       "Dep. Variable:           Wealth_Index   R-squared (uncentered):                   0.169\n",
       "Model:                            OLS   Adj. R-squared (uncentered):              0.143\n",
       "Method:                 Least Squares   F-statistic:                              6.573\n",
       "Date:                Thu, 28 May 2020   Prob (F-statistic):                    5.33e-28\n",
       "Time:                        23:58:09   Log-Likelihood:                         -2546.5\n",
       "No. Observations:                1200   AIC:                                      5165.\n",
       "Df Residuals:                    1164   BIC:                                      5348.\n",
       "Df Model:                          36                                                  \n",
       "Covariance Type:            nonrobust                                                  \n",
       "================================================================================\n",
       "                   coef    std err          t      P>|t|      [0.025      0.975]\n",
       "--------------------------------------------------------------------------------\n",
       "r0            1.625e-06   3.08e-06      0.528      0.597   -4.41e-06    7.66e-06\n",
       "r1            5.552e-06   2.85e-06      1.945      0.052   -4.91e-08    1.12e-05\n",
       "r2            5.017e-06   4.28e-06      1.172      0.242   -3.38e-06    1.34e-05\n",
       "r3           -4.242e-06   3.03e-06     -1.400      0.162   -1.02e-05     1.7e-06\n",
       "r4           -4.133e-06   2.45e-06     -1.684      0.092   -8.95e-06    6.83e-07\n",
       "r5            1.074e-06    1.4e-06      0.769      0.442   -1.67e-06    3.81e-06\n",
       "r6           -4.868e-07   1.27e-06     -0.384      0.701   -2.97e-06       2e-06\n",
       "r7            2.247e-06   1.47e-06      1.524      0.128   -6.47e-07    5.14e-06\n",
       "r8           -2.553e-06   2.03e-06     -1.259      0.208   -6.53e-06    1.43e-06\n",
       "r9           -2.561e-06   2.91e-06     -0.881      0.379   -8.27e-06    3.15e-06\n",
       "g0           -4.937e-06   4.13e-06     -1.196      0.232    -1.3e-05    3.16e-06\n",
       "g1            1.512e-06   3.24e-06      0.467      0.641   -4.84e-06    7.87e-06\n",
       "g2           -5.905e-06   3.64e-06     -1.623      0.105    -1.3e-05    1.23e-06\n",
       "g3            1.803e-06   2.89e-06      0.625      0.532   -3.86e-06    7.46e-06\n",
       "g4           -5.812e-07   2.18e-06     -0.267      0.790   -4.85e-06    3.69e-06\n",
       "g5           -1.492e-06   1.37e-06     -1.091      0.275   -4.17e-06    1.19e-06\n",
       "g6           -4.785e-07   1.57e-06     -0.304      0.761   -3.57e-06    2.61e-06\n",
       "g7           -3.316e-06   2.25e-06     -1.472      0.141   -7.74e-06    1.11e-06\n",
       "g8            4.207e-06   3.31e-06      1.270      0.204   -2.29e-06    1.07e-05\n",
       "g9            1.073e-05   4.08e-06      2.630      0.009    2.73e-06    1.87e-05\n",
       "b0            3.452e-06   2.17e-06      1.593      0.112      -8e-07     7.7e-06\n",
       "b1            2.299e-06   1.99e-06      1.156      0.248    -1.6e-06     6.2e-06\n",
       "b2           -2.034e-07   2.05e-06     -0.099      0.921   -4.22e-06    3.81e-06\n",
       "b3            -3.55e-07   1.55e-06     -0.229      0.819   -3.39e-06    2.68e-06\n",
       "b4            9.939e-07   1.05e-06      0.947      0.344   -1.07e-06    3.05e-06\n",
       "b5             3.76e-07   9.68e-07      0.388      0.698   -1.52e-06    2.28e-06\n",
       "b6            3.567e-06   1.44e-06      2.472      0.014    7.36e-07     6.4e-06\n",
       "b7           -1.695e-06   1.86e-06     -0.911      0.363   -5.35e-06    1.96e-06\n",
       "b8            2.444e-06   2.43e-06      1.005      0.315   -2.33e-06    7.22e-06\n",
       "b9           -8.825e-06   2.35e-06     -3.759      0.000   -1.34e-05   -4.22e-06\n",
       "train            0.8970      0.460      1.948      0.052      -0.006       1.800\n",
       "truck            0.0365      0.080      0.455      0.649      -0.121       0.194\n",
       "car              0.2587      0.033      7.881      0.000       0.194       0.323\n",
       "person          -0.0498      0.014     -3.576      0.000      -0.077      -0.022\n",
       "potted plant     0.1998      0.090      2.225      0.026       0.024       0.376\n",
       "r_mean           0.0117      0.016      0.720      0.472      -0.020       0.043\n",
       "g_mean          -0.0121      0.026     -0.458      0.647      -0.064       0.040\n",
       "b_mean          -0.0035      0.017     -0.202      0.840      -0.037       0.030\n",
       "==============================================================================\n",
       "Omnibus:                       43.509   Durbin-Watson:                   2.058\n",
       "Prob(Omnibus):                  0.000   Jarque-Bera (JB):               48.917\n",
       "Skew:                           0.439   Prob(JB):                     2.39e-11\n",
       "Kurtosis:                       3.455   Cond. No.                     2.09e+16\n",
       "==============================================================================\n",
       "\n",
       "Warnings:\n",
       "[1] Standard Errors assume that the covariance matrix of the errors is correctly specified.\n",
       "[2] The smallest eigenvalue is 2.23e-18. This might indicate that there are\n",
       "strong multicollinearity problems or that the design matrix is singular.\n",
       "\"\"\""
      ]
     },
     "execution_count": 158,
     "metadata": {},
     "output_type": "execute_result"
    }
   ],
   "source": [
    "X = cmodel[r_cols+g_cols+b_cols + ['train', 'truck', 'car', 'person',  'potted plant', 'r_mean', 'g_mean', 'b_mean']]\n",
    "y = cmodel['Wealth_Index']\n",
    "est = sm.OLS(y, X)\n",
    "est2 = est.fit()\n",
    "est2.summary()"
   ]
  },
  {
   "cell_type": "code",
   "execution_count": null,
   "metadata": {},
   "outputs": [],
   "source": []
  }
 ],
 "metadata": {
  "kernelspec": {
   "display_name": "Python 3",
   "language": "python",
   "name": "python3"
  },
  "language_info": {
   "codemirror_mode": {
    "name": "ipython",
    "version": 3
   },
   "file_extension": ".py",
   "mimetype": "text/x-python",
   "name": "python",
   "nbconvert_exporter": "python",
   "pygments_lexer": "ipython3",
   "version": "3.7.6"
  }
 },
 "nbformat": 4,
 "nbformat_minor": 4
}
